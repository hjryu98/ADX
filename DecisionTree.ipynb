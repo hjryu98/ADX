{
  "cells": [
    {
      "cell_type": "markdown",
      "metadata": {
        "id": "hcoPXNFUgwIn"
      },
      "source": [
        "###$\\color{blue}{\\text{2.0. Environmental Set-up & Data Loading}}$"
      ]
    },
    {
      "cell_type": "code",
      "execution_count": null,
      "metadata": {
        "id": "d77gYCjpgwIi",
        "colab": {
          "base_uri": "https://localhost:8080/"
        },
        "outputId": "d87b97c1-021d-4f7e-e1ea-57293bbb9b29"
      },
      "outputs": [
        {
          "output_type": "stream",
          "name": "stdout",
          "text": [
            "Mounted at /content/drive\n",
            "/content/drive/My Drive\n"
          ]
        }
      ],
      "source": [
        "from google.colab import drive\n",
        "\n",
        "drive.mount('/content/drive', force_remount=True)\n",
        "\n",
        "# enter the foldername in your Google Drive where you have saved the unzipped\n",
        "FOLDERNAME =  'ADX/'\n",
        "\n",
        "assert FOLDERNAME is not None, 'ERROR'\n",
        "\n",
        "%cd drive/My\\ Drive\n",
        "%cp -r $FOLDERNAME ../../"
      ]
    },
    {
      "cell_type": "code",
      "execution_count": null,
      "metadata": {
        "colab": {
          "base_uri": "https://localhost:8080/"
        },
        "id": "U9q2ubx0gwIo",
        "outputId": "951313e8-0179-4d0e-f53f-eb3667d258e2"
      },
      "outputs": [
        {
          "output_type": "stream",
          "name": "stderr",
          "text": [
            "<ipython-input-2-a339a23ac502>:7: FutureWarning: In a future version of pandas all arguments of DataFrame.drop except for the argument 'labels' will be keyword-only.\n",
            "  df_ = df.drop('거래금액(만원)_adj', 1)\n"
          ]
        }
      ],
      "source": [
        "import pandas as pd\n",
        "import numpy as np\n",
        "\n",
        "# Part 1.1에서 전처리하여 저장한 데이터 Import\n",
        "df = pd.read_pickle('./ADX/Data_RealEstate/dataset_preprocessing_team1re.pickle')\n",
        "y_price = df.loc[:, '거래금액(만원)_adj']\n",
        "df_ = df.drop('거래금액(만원)_adj', 1)\n",
        "\n",
        "# 추후에 Implementation for Real-World Practice에 사용할 Test Data (교수자만 소유)\n",
        "# df_test = pd.read_csv('./ADX/Data_RealEstate/testset.csv', encoding ='cp949')"
      ]
    },
    {
      "cell_type": "code",
      "execution_count": null,
      "metadata": {
        "id": "2ipkjfP5DYWA",
        "colab": {
          "base_uri": "https://localhost:8080/"
        },
        "outputId": "0e8ebc9f-ed5a-4a4a-f8d9-34b761e6ed0b"
      },
      "outputs": [
        {
          "output_type": "stream",
          "name": "stdout",
          "text": [
            "Reading package lists... Done\n",
            "Building dependency tree       \n",
            "Reading state information... Done\n",
            "The following NEW packages will be installed:\n",
            "  fonts-nanum\n",
            "0 upgraded, 1 newly installed, 0 to remove and 23 not upgraded.\n",
            "Need to get 9,599 kB of archives.\n",
            "After this operation, 29.6 MB of additional disk space will be used.\n",
            "Get:1 http://archive.ubuntu.com/ubuntu focal/universe amd64 fonts-nanum all 20180306-3 [9,599 kB]\n",
            "Fetched 9,599 kB in 1s (6,915 kB/s)\n",
            "debconf: unable to initialize frontend: Dialog\n",
            "debconf: (No usable dialog-like program is installed, so the dialog based frontend cannot be used. at /usr/share/perl5/Debconf/FrontEnd/Dialog.pm line 76, <> line 1.)\n",
            "debconf: falling back to frontend: Readline\n",
            "debconf: unable to initialize frontend: Readline\n",
            "debconf: (This frontend requires a controlling tty.)\n",
            "debconf: falling back to frontend: Teletype\n",
            "dpkg-preconfigure: unable to re-open stdin: \n",
            "Selecting previously unselected package fonts-nanum.\n",
            "(Reading database ... 128276 files and directories currently installed.)\n",
            "Preparing to unpack .../fonts-nanum_20180306-3_all.deb ...\n",
            "Unpacking fonts-nanum (20180306-3) ...\n",
            "Setting up fonts-nanum (20180306-3) ...\n",
            "Processing triggers for fontconfig (2.13.1-2ubuntu3) ...\n",
            "/usr/share/fonts: caching, new cache contents: 0 fonts, 1 dirs\n",
            "/usr/share/fonts/truetype: caching, new cache contents: 0 fonts, 3 dirs\n",
            "/usr/share/fonts/truetype/humor-sans: caching, new cache contents: 1 fonts, 0 dirs\n",
            "/usr/share/fonts/truetype/liberation: caching, new cache contents: 16 fonts, 0 dirs\n",
            "/usr/share/fonts/truetype/nanum: caching, new cache contents: 10 fonts, 0 dirs\n",
            "/usr/local/share/fonts: caching, new cache contents: 0 fonts, 0 dirs\n",
            "/root/.local/share/fonts: skipping, no such directory\n",
            "/root/.fonts: skipping, no such directory\n",
            "/usr/share/fonts/truetype: skipping, looped directory detected\n",
            "/usr/share/fonts/truetype/humor-sans: skipping, looped directory detected\n",
            "/usr/share/fonts/truetype/liberation: skipping, looped directory detected\n",
            "/usr/share/fonts/truetype/nanum: skipping, looped directory detected\n",
            "/var/cache/fontconfig: cleaning cache directory\n",
            "/root/.cache/fontconfig: not cleaning non-existent cache directory\n",
            "/root/.fontconfig: not cleaning non-existent cache directory\n",
            "fc-cache: succeeded\n"
          ]
        }
      ],
      "source": [
        "# 한글 나눔포트 사용\n",
        "!sudo apt-get install -y fonts-nanum\n",
        "!sudo fc-cache -fv\n",
        "!rm ~/.cache/matplotlib -rf\n",
        "from matplotlib import font_manager, rc\n",
        "import matplotlib.pyplot as plt\n",
        "import seaborn as sns\n",
        "plt.rc('font', family='NanumBarunGothic')"
      ]
    },
    {
      "cell_type": "markdown",
      "metadata": {
        "id": "iGmrPvr5gwIr"
      },
      "source": [
        "###$\\color{blue}{\\text{2.1. Data split & Normalization}}$\n",
        "\n",
        "모델을 튜닝하기 위한 validation set 설정"
      ]
    },
    {
      "cell_type": "code",
      "execution_count": null,
      "metadata": {
        "id": "pp646yASgwIr",
        "colab": {
          "base_uri": "https://localhost:8080/"
        },
        "outputId": "7978fb1d-ebdb-461b-fca4-a152f8333ad8"
      },
      "outputs": [
        {
          "output_type": "stream",
          "name": "stderr",
          "text": [
            "<ipython-input-6-f82f78080330>:6: FutureWarning: In a future version of pandas all arguments of DataFrame.drop except for the argument 'labels' will be keyword-only.\n",
            "  X_val = df.iloc[mask, :].drop(y_column, 1)\n",
            "<ipython-input-6-f82f78080330>:10: FutureWarning: In a future version of pandas all arguments of DataFrame.drop except for the argument 'labels' will be keyword-only.\n",
            "  X_train = df.loc[mask, :].drop(y_column, 1)\n"
          ]
        }
      ],
      "source": [
        "def splitData(df, ratio, y_column):\n",
        "    \n",
        "    columns_ = df.columns\n",
        "    # Subsample the data\n",
        "    mask = list(range(0,df.shape[0], ratio))\n",
        "    X_val = df.iloc[mask, :].drop(y_column, 1)\n",
        "    y_val = df.iloc[mask][y_column]\n",
        "    \n",
        "    mask = ~df.index.isin(mask)\n",
        "    X_train = df.loc[mask, :].drop(y_column, 1)\n",
        "    y_train = df.loc[mask, y_column]\n",
        "    \n",
        "    return X_train, y_train, X_val, y_val\n",
        "\n",
        "# train set, validation set split \n",
        "# train set, validation set = 4 : 1\n",
        "\n",
        "X_train, y_train, X_val, y_val = splitData(df_, 5, y_column = '평당가격') \n",
        "\n",
        "\n",
        "#################################################################################\n",
        "# TODO: 연속형 변수에 대해서 Z normalize를 설계 및 적용                         #\n",
        "# 대표적으로 Z normalize와 min max normalize가 존재 \n",
        "#\n",
        "# 1. training dataset에 normalize하는 함수 생성(validation/ test에 사용할 cache \n",
        "# 저장)\n",
        "# 2. validation set과 test set을 normalize하는 함수 생성 및 적용\n",
        "#################################################################################\n",
        "\n",
        "##1. \n",
        "def z_normalize(data, column):\n",
        "    temp_df = data[column]\n",
        "    normalized_df = (temp_df - temp_df.mean()) / temp_df.std()\n",
        "    cache = {}\n",
        "    cache['mean'] = temp_df.mean()\n",
        "    cache['std'] = temp_df.std()\n",
        "    return normalized_df, cache\n",
        "\n",
        "    \n",
        "##2. \n",
        "\n",
        "def z_normalize_val(data, column, cache):\n",
        "    temp_df = data[column]\n",
        "    normalized_df = (temp_df - cache['mean']) / cache['std']\n",
        "    return normalized_df\n"
      ]
    },
    {
      "cell_type": "code",
      "execution_count": null,
      "metadata": {
        "id": "ZZdqDa00alAm"
      },
      "outputs": [],
      "source": [
        "# 위 block에서 만들어진 z_normalize와 z_normalize_val 적용 (Error 날 경우 다시 고민할 것)\n",
        "X_train_norm = X_train.copy()\n",
        "X_train_norm.loc[:, ['전용/연면적(㎡)','층','건물년식']], cache = z_normalize(X_train, ['전용/연면적(㎡)','층','건물년식'])\n",
        "X_val_norm = X_val.copy()\n",
        "X_val_norm.loc[:, ['전용/연면적(㎡)','층','건물년식']] = z_normalize_val(X_val, ['전용/연면적(㎡)','층','건물년식'], cache)"
      ]
    },
    {
      "cell_type": "markdown",
      "metadata": {
        "id": "3TcNs7nRgwIu"
      },
      "source": [
        "###$\\color{blue}{\\text{2.2. Decision Tree for Regression}}$\n",
        "\n",
        "Decision Tree (https://scikit-learn.org/stable/modules/tree.html)\n",
        "\n",
        "**Hyperparameter Optimization (Tuning)**. Decision Tree에서는 max_depth를 바꿔가며 현재 split 된 데이터에 최적의 모델을 찾을 것 (loop을 통해 여러 depth를 테스트하며 최소값은 3에서 시작)\n",
        "\n",
        "**Approximate results**. ㎡당 가격의 MAE와 ㎡당 가격을 추정 상가 가격으로 변환하여 MAE를 계산 (MAE의 minimum을 찾는 행위가 Hyperparameter optimization을 의미하며 최대로 개선된 모형을 사용하는 것이 바람직함)"
      ]
    },
    {
      "cell_type": "code",
      "execution_count": null,
      "metadata": {
        "id": "fBKBtxzFgwIu",
        "colab": {
          "base_uri": "https://localhost:8080/",
          "height": 1000
        },
        "outputId": "b8ea7bd6-46bf-41f0-838c-4c26a7ef90e2"
      },
      "outputs": [
        {
          "output_type": "stream",
          "name": "stdout",
          "text": [
            "current best parameter:  3 with mse : 673645.151904038 with mae : 503.08137352208195\n",
            "current best parameter:  4 with mse : 643165.2065766461 with mae : 493.0565299780062\n",
            "current best parameter:  5 with mse : 617507.2056665389 with mae : 478.44436234761423\n",
            "current best parameter:  6 with mse : 591081.206614557 with mae : 462.94823199147174\n",
            "current best parameter:  7 with mse : 541178.4157913654 with mae : 437.2855442824957\n",
            "current best parameter:  8 with mse : 492472.66690800816 with mae : 414.13441134080045\n",
            "current best parameter:  9 with mse : 452076.7796055632 with mae : 394.18127691666194\n",
            "current best parameter:  10 with mse : 408032.5951835195 with mae : 373.51282907209145\n",
            "current best parameter:  11 with mse : 370226.56349510414 with mae : 348.5864948320152\n",
            "current best parameter:  12 with mse : 334261.4582105708 with mae : 328.99097788297126\n",
            "current best parameter:  13 with mse : 312767.8744238171 with mae : 309.79078168504424\n",
            "current best parameter:  14 with mse : 278431.39223172236 with mae : 285.4956677783393\n",
            "current best parameter:  15 with mse : 256201.65957702283 with mae : 262.6154439896346\n",
            "current best parameter:  20 with mse : 166522.99261373543 with mae : 164.13697793894494\n",
            "current best parameter:  30 with mse : 113832.33049760207 with mae : 73.41726953564574\n",
            "current best parameter:  40 with mse : 114567.89140381597 with mae : 63.65047492821156\n",
            "current best parameter:  50 with mse : 113080.25275642003 with mae : 63.00070168575472\n",
            "current best parameter:  60 with mse : 110683.97532531442 with mae : 62.57981847603709\n",
            "current best parameter:  80 with mse : 110355.10147290626 with mae : 61.719647892789006\n",
            "Best hyperparameter is  80\n",
            "that MSE is  110355.10147290626 that MAE is 61.719647892789006\n"
          ]
        },
        {
          "output_type": "execute_result",
          "data": {
            "text/plain": [
              "<sklearn.metrics._plot.regression.PredictionErrorDisplay at 0x7fc3087d7ca0>"
            ]
          },
          "metadata": {},
          "execution_count": 11
        },
        {
          "output_type": "stream",
          "name": "stderr",
          "text": [
            "WARNING:matplotlib.font_manager:findfont: Font family 'NanumBarunGothic' not found.\n",
            "WARNING:matplotlib.font_manager:findfont: Font family 'NanumBarunGothic' not found.\n",
            "WARNING:matplotlib.font_manager:findfont: Font family 'NanumBarunGothic' not found.\n",
            "WARNING:matplotlib.font_manager:findfont: Font family 'NanumBarunGothic' not found.\n",
            "WARNING:matplotlib.font_manager:findfont: Font family 'NanumBarunGothic' not found.\n",
            "WARNING:matplotlib.font_manager:findfont: Font family 'NanumBarunGothic' not found.\n",
            "WARNING:matplotlib.font_manager:findfont: Font family 'NanumBarunGothic' not found.\n",
            "WARNING:matplotlib.font_manager:findfont: Font family 'NanumBarunGothic' not found.\n",
            "WARNING:matplotlib.font_manager:findfont: Font family 'NanumBarunGothic' not found.\n",
            "WARNING:matplotlib.font_manager:findfont: Font family 'NanumBarunGothic' not found.\n",
            "WARNING:matplotlib.font_manager:findfont: Font family 'NanumBarunGothic' not found.\n",
            "WARNING:matplotlib.font_manager:findfont: Font family 'NanumBarunGothic' not found.\n",
            "WARNING:matplotlib.font_manager:findfont: Font family 'NanumBarunGothic' not found.\n",
            "WARNING:matplotlib.font_manager:findfont: Font family 'NanumBarunGothic' not found.\n",
            "WARNING:matplotlib.font_manager:findfont: Font family 'NanumBarunGothic' not found.\n",
            "WARNING:matplotlib.font_manager:findfont: Font family 'NanumBarunGothic' not found.\n",
            "WARNING:matplotlib.font_manager:findfont: Font family 'NanumBarunGothic' not found.\n",
            "WARNING:matplotlib.font_manager:findfont: Font family 'NanumBarunGothic' not found.\n",
            "WARNING:matplotlib.font_manager:findfont: Font family 'NanumBarunGothic' not found.\n",
            "WARNING:matplotlib.font_manager:findfont: Font family 'NanumBarunGothic' not found.\n",
            "WARNING:matplotlib.font_manager:findfont: Font family 'NanumBarunGothic' not found.\n",
            "WARNING:matplotlib.font_manager:findfont: Font family 'NanumBarunGothic' not found.\n",
            "WARNING:matplotlib.font_manager:findfont: Font family 'NanumBarunGothic' not found.\n",
            "WARNING:matplotlib.font_manager:findfont: Font family 'NanumBarunGothic' not found.\n",
            "WARNING:matplotlib.font_manager:findfont: Font family 'NanumBarunGothic' not found.\n",
            "WARNING:matplotlib.font_manager:findfont: Font family 'NanumBarunGothic' not found.\n",
            "WARNING:matplotlib.font_manager:findfont: Font family 'NanumBarunGothic' not found.\n",
            "WARNING:matplotlib.font_manager:findfont: Font family 'NanumBarunGothic' not found.\n",
            "WARNING:matplotlib.font_manager:findfont: Font family 'NanumBarunGothic' not found.\n",
            "WARNING:matplotlib.font_manager:findfont: Font family 'NanumBarunGothic' not found.\n",
            "WARNING:matplotlib.font_manager:findfont: Font family 'NanumBarunGothic' not found.\n",
            "WARNING:matplotlib.font_manager:findfont: Font family 'NanumBarunGothic' not found.\n",
            "WARNING:matplotlib.font_manager:findfont: Font family 'NanumBarunGothic' not found.\n",
            "WARNING:matplotlib.font_manager:findfont: Font family 'NanumBarunGothic' not found.\n",
            "WARNING:matplotlib.font_manager:findfont: Font family 'NanumBarunGothic' not found.\n",
            "WARNING:matplotlib.font_manager:findfont: Font family 'NanumBarunGothic' not found.\n",
            "WARNING:matplotlib.font_manager:findfont: Font family 'NanumBarunGothic' not found.\n",
            "WARNING:matplotlib.font_manager:findfont: Font family 'NanumBarunGothic' not found.\n",
            "WARNING:matplotlib.font_manager:findfont: Font family 'NanumBarunGothic' not found.\n",
            "WARNING:matplotlib.font_manager:findfont: Font family 'NanumBarunGothic' not found.\n",
            "WARNING:matplotlib.font_manager:findfont: Font family 'NanumBarunGothic' not found.\n",
            "WARNING:matplotlib.font_manager:findfont: Font family 'NanumBarunGothic' not found.\n",
            "WARNING:matplotlib.font_manager:findfont: Font family 'NanumBarunGothic' not found.\n",
            "WARNING:matplotlib.font_manager:findfont: Font family 'NanumBarunGothic' not found.\n",
            "WARNING:matplotlib.font_manager:findfont: Font family 'NanumBarunGothic' not found.\n",
            "WARNING:matplotlib.font_manager:findfont: Font family 'NanumBarunGothic' not found.\n",
            "WARNING:matplotlib.font_manager:findfont: Font family 'NanumBarunGothic' not found.\n",
            "WARNING:matplotlib.font_manager:findfont: Font family 'NanumBarunGothic' not found.\n",
            "WARNING:matplotlib.font_manager:findfont: Font family 'NanumBarunGothic' not found.\n",
            "WARNING:matplotlib.font_manager:findfont: Font family 'NanumBarunGothic' not found.\n",
            "WARNING:matplotlib.font_manager:findfont: Font family 'NanumBarunGothic' not found.\n",
            "WARNING:matplotlib.font_manager:findfont: Font family 'NanumBarunGothic' not found.\n",
            "WARNING:matplotlib.font_manager:findfont: Font family 'NanumBarunGothic' not found.\n",
            "WARNING:matplotlib.font_manager:findfont: Font family 'NanumBarunGothic' not found.\n",
            "WARNING:matplotlib.font_manager:findfont: Font family 'NanumBarunGothic' not found.\n",
            "WARNING:matplotlib.font_manager:findfont: Font family 'NanumBarunGothic' not found.\n",
            "WARNING:matplotlib.font_manager:findfont: Font family 'NanumBarunGothic' not found.\n",
            "WARNING:matplotlib.font_manager:findfont: Font family 'NanumBarunGothic' not found.\n",
            "WARNING:matplotlib.font_manager:findfont: Font family 'NanumBarunGothic' not found.\n",
            "WARNING:matplotlib.font_manager:findfont: Font family 'NanumBarunGothic' not found.\n"
          ]
        },
        {
          "output_type": "display_data",
          "data": {
            "text/plain": [
              "<Figure size 432x288 with 1 Axes>"
            ],
            "image/png": "[encoded data removed]"
          },
          "metadata": {
            "needs_background": "light"
          }
        }
      ],
      "source": [
        "from sklearn.tree import DecisionTreeRegressor\n",
        "best_dt = None  # store the best model into this \n",
        "best_mse = 1e10  # Initial set-value, which must be changed later on\n",
        "best_hyperparameter = None\n",
        "results = {}\n",
        "max_depths = [3, 4, 5, 10, 20, 50]\n",
        "\n",
        "\n",
        "\n",
        "#################################################################################\n",
        "# TODO: validation dataset을 활용하여 하이퍼 파라미터를 조정하고 가장 좋은 모델  \n",
        "# 을 저장하여 추후 test dataset에 적용해볼 예정                                 \n",
        "#                                                                               \n",
        "# 1. max_depth을 조절하여 가장 좋은 모델을 'best_dt'에 저장, 가장 \n",
        "# 좋은 모델의 하이퍼 파라미터를 'best_hyperparamter'에 저장. 모델의 성능 비교는\n",
        "# validation set의 MSE를 참조하고 가장 좋은 모델의 MSE를 'best_MSE'에 저장.\n",
        "#\n",
        "# 2. Regression 결과를 plot 할 것 (위의 scikit-learn 문서 참조)\n",
        "#################################################################################\n",
        "\n",
        "from sklearn.tree import DecisionTreeRegressor\n",
        "best_dt = None  # store the best model into this \n",
        "best_mse = 1e10  # Initial set-value, which must be changed later on\n",
        "best_hyperparameter = None\n",
        "results = {}\n",
        "#max_depth의 범위를 늘려서 실험\n",
        "max_depths = [3, 4, 5, 6, 7, 8, 9, 10, 11, 12, 13, 14, 15, 20, 30, 40, 50, 60, 70, 80, 90, 100]\n",
        "\n",
        "\n",
        "#################################################################################\n",
        "# TODO: validation dataset을 활용하여 하이퍼 파라미터를 조정하고 가장 좋은 모델  \n",
        "# 을 저장하여 추후 test dataset에 적용해볼 예정                                 \n",
        "#                                                                               \n",
        "# 1. max_depth을 조절하여 가장 좋은 모델을 'best_dt'에 저장, 가장 \n",
        "# 좋은 모델의 하이퍼 파라미터를 'best_hyperparamter'에 저장. 모델의 성능 비교는\n",
        "# validation set의 MSE를 참조하고 가장 좋은 모델의 MSE를 'best_MSE'에 저장.\n",
        "#\n",
        "# 2. Regression 결과를 plot 할 것 (위의 scikit-learn 문서 참조)\n",
        "#################################################################################\n",
        "\n",
        "\n",
        "from sklearn.metrics import mean_squared_error, mean_absolute_error\n",
        "\n",
        "best_mae = 1e10   #MAE를 기준으로 best hyperparameter를 찾기 위함\n",
        "\n",
        "for i in max_depths: #max_depth를 바꿔가며 실행\n",
        "    tmp_model = DecisionTreeRegressor(max_depth = i)\n",
        "    tmp_model.fit(X_train_norm, y_train)\n",
        "    y_pred = tmp_model.predict(X_val_norm)\n",
        "    tmp_mae = mean_absolute_error(y_val, y_pred)\n",
        "    #best_mae를 최소 mae일 경우 갱신\n",
        "    if tmp_mae <= best_mae:\n",
        "        best_dt = tmp_model\n",
        "        best_mae = tmp_mae\n",
        "        best_mse = mean_squared_error(y_val, y_pred)\n",
        "        best_hyperparameter = i\n",
        "        print(\"current best parameter: \", best_hyperparameter,\"with mse :\", best_mse,\"with mae :\",best_mae)\n",
        "    \n",
        "    #각 max_depth별 결과를 저장\n",
        "    results[i] = y_pred\n",
        "\n",
        "print(\"Best hyperparameter is \", best_hyperparameter)\n",
        "print(\"that MSE is \", best_mse, \"that MAE is\", best_mae)\n",
        "\n",
        "#best model의 오차 plot\n",
        "from sklearn.metrics import PredictionErrorDisplay\n",
        "disp = PredictionErrorDisplay(y_true=y_val, y_pred=results[best_hyperparameter])\n",
        "disp.plot()\n"
      ]
    },
    {
      "cell_type": "code",
      "source": [
        "#max_depth별 plot\n",
        "import matplotlib.pyplot as plt\n",
        "\n",
        "plt.clf()\n",
        "plt.figure(figsize=(24,5))\n",
        "\n",
        "#가시성을 위해 validation set의 20개 data만 plot\n",
        "x_to_plot = X_val_norm[5:26]\n",
        "y_to_plot = y_val[5:26]\n",
        "\n",
        "#실험 결과 50~80에서 best dt가 자주 나왔으므로 해당 부분만 plot\n",
        "plot_depth = list(range(50,90,10))\n",
        "for depth in plot_depth:\n",
        "    pred_plot = results[depth][5:26]\n",
        "    label = 'max_depth='+str(depth)\n",
        "    plt.plot(x_to_plot.index, pred_plot, label=label, linewidth=2)\n",
        "\n",
        "plt.scatter(x_to_plot.index, y_to_plot, s=20, edgecolors='black', c='red', label = 'data')\n",
        "plt.xlabel(\"data\")\n",
        "plt.ylabel(\"target\")\n",
        "plt.title(\"Decisiontree regressor results\")\n",
        "plt.legend()\n",
        "plt.show"
      ],
      "metadata": {
        "colab": {
          "base_uri": "https://localhost:8080/",
          "height": 1000
        },
        "id": "AyGzYpWnsJ77",
        "outputId": "57bf649c-3312-4826-d1e8-1f4785324886"
      },
      "execution_count": null,
      "outputs": [
        {
          "output_type": "execute_result",
          "data": {
            "text/plain": [
              "<function matplotlib.pyplot.show(close=None, block=None)>"
            ]
          },
          "metadata": {},
          "execution_count": 12
        },
        {
          "output_type": "stream",
          "name": "stderr",
          "text": [
            "WARNING:matplotlib.font_manager:findfont: Font family 'NanumBarunGothic' not found.\n",
            "WARNING:matplotlib.font_manager:findfont: Font family 'NanumBarunGothic' not found.\n",
            "WARNING:matplotlib.font_manager:findfont: Font family 'NanumBarunGothic' not found.\n",
            "WARNING:matplotlib.font_manager:findfont: Font family 'NanumBarunGothic' not found.\n",
            "WARNING:matplotlib.font_manager:findfont: Font family 'NanumBarunGothic' not found.\n",
            "WARNING:matplotlib.font_manager:findfont: Font family 'NanumBarunGothic' not found.\n",
            "WARNING:matplotlib.font_manager:findfont: Font family 'NanumBarunGothic' not found.\n",
            "WARNING:matplotlib.font_manager:findfont: Font family 'NanumBarunGothic' not found.\n",
            "WARNING:matplotlib.font_manager:findfont: Font family 'NanumBarunGothic' not found.\n",
            "WARNING:matplotlib.font_manager:findfont: Font family 'NanumBarunGothic' not found.\n",
            "WARNING:matplotlib.font_manager:findfont: Font family 'NanumBarunGothic' not found.\n",
            "WARNING:matplotlib.font_manager:findfont: Font family 'NanumBarunGothic' not found.\n",
            "WARNING:matplotlib.font_manager:findfont: Font family 'NanumBarunGothic' not found.\n",
            "WARNING:matplotlib.font_manager:findfont: Font family 'NanumBarunGothic' not found.\n",
            "WARNING:matplotlib.font_manager:findfont: Font family 'NanumBarunGothic' not found.\n",
            "WARNING:matplotlib.font_manager:findfont: Font family 'NanumBarunGothic' not found.\n",
            "WARNING:matplotlib.font_manager:findfont: Font family 'NanumBarunGothic' not found.\n",
            "WARNING:matplotlib.font_manager:findfont: Font family 'NanumBarunGothic' not found.\n",
            "WARNING:matplotlib.font_manager:findfont: Font family 'NanumBarunGothic' not found.\n",
            "WARNING:matplotlib.font_manager:findfont: Font family 'NanumBarunGothic' not found.\n",
            "WARNING:matplotlib.font_manager:findfont: Font family 'NanumBarunGothic' not found.\n",
            "WARNING:matplotlib.font_manager:findfont: Font family 'NanumBarunGothic' not found.\n",
            "WARNING:matplotlib.font_manager:findfont: Font family 'NanumBarunGothic' not found.\n",
            "WARNING:matplotlib.font_manager:findfont: Font family 'NanumBarunGothic' not found.\n",
            "WARNING:matplotlib.font_manager:findfont: Font family 'NanumBarunGothic' not found.\n",
            "WARNING:matplotlib.font_manager:findfont: Font family 'NanumBarunGothic' not found.\n",
            "WARNING:matplotlib.font_manager:findfont: Font family 'NanumBarunGothic' not found.\n",
            "WARNING:matplotlib.font_manager:findfont: Font family 'NanumBarunGothic' not found.\n",
            "WARNING:matplotlib.font_manager:findfont: Font family 'NanumBarunGothic' not found.\n",
            "WARNING:matplotlib.font_manager:findfont: Font family 'NanumBarunGothic' not found.\n",
            "WARNING:matplotlib.font_manager:findfont: Font family 'NanumBarunGothic' not found.\n",
            "WARNING:matplotlib.font_manager:findfont: Font family 'NanumBarunGothic' not found.\n",
            "WARNING:matplotlib.font_manager:findfont: Font family 'NanumBarunGothic' not found.\n",
            "WARNING:matplotlib.font_manager:findfont: Font family 'NanumBarunGothic' not found.\n",
            "WARNING:matplotlib.font_manager:findfont: Font family 'NanumBarunGothic' not found.\n",
            "WARNING:matplotlib.font_manager:findfont: Font family 'NanumBarunGothic' not found.\n",
            "WARNING:matplotlib.font_manager:findfont: Font family 'NanumBarunGothic' not found.\n",
            "WARNING:matplotlib.font_manager:findfont: Font family 'NanumBarunGothic' not found.\n",
            "WARNING:matplotlib.font_manager:findfont: Font family 'NanumBarunGothic' not found.\n",
            "WARNING:matplotlib.font_manager:findfont: Font family 'NanumBarunGothic' not found.\n",
            "WARNING:matplotlib.font_manager:findfont: Font family 'NanumBarunGothic' not found.\n",
            "WARNING:matplotlib.font_manager:findfont: Font family 'NanumBarunGothic' not found.\n",
            "WARNING:matplotlib.font_manager:findfont: Font family 'NanumBarunGothic' not found.\n",
            "WARNING:matplotlib.font_manager:findfont: Font family 'NanumBarunGothic' not found.\n",
            "WARNING:matplotlib.font_manager:findfont: Font family 'NanumBarunGothic' not found.\n",
            "WARNING:matplotlib.font_manager:findfont: Font family 'NanumBarunGothic' not found.\n",
            "WARNING:matplotlib.font_manager:findfont: Font family 'NanumBarunGothic' not found.\n",
            "WARNING:matplotlib.font_manager:findfont: Font family 'NanumBarunGothic' not found.\n",
            "WARNING:matplotlib.font_manager:findfont: Font family 'NanumBarunGothic' not found.\n",
            "WARNING:matplotlib.font_manager:findfont: Font family 'NanumBarunGothic' not found.\n",
            "WARNING:matplotlib.font_manager:findfont: Font family 'NanumBarunGothic' not found.\n",
            "WARNING:matplotlib.font_manager:findfont: Font family 'NanumBarunGothic' not found.\n",
            "WARNING:matplotlib.font_manager:findfont: Font family 'NanumBarunGothic' not found.\n",
            "WARNING:matplotlib.font_manager:findfont: Font family 'NanumBarunGothic' not found.\n",
            "WARNING:matplotlib.font_manager:findfont: Font family 'NanumBarunGothic' not found.\n",
            "WARNING:matplotlib.font_manager:findfont: Font family 'NanumBarunGothic' not found.\n",
            "WARNING:matplotlib.font_manager:findfont: Font family 'NanumBarunGothic' not found.\n",
            "WARNING:matplotlib.font_manager:findfont: Font family 'NanumBarunGothic' not found.\n",
            "WARNING:matplotlib.font_manager:findfont: Font family 'NanumBarunGothic' not found.\n",
            "WARNING:matplotlib.font_manager:findfont: Font family 'NanumBarunGothic' not found.\n",
            "WARNING:matplotlib.font_manager:findfont: Font family 'NanumBarunGothic' not found.\n",
            "WARNING:matplotlib.font_manager:findfont: Font family 'NanumBarunGothic' not found.\n",
            "WARNING:matplotlib.font_manager:findfont: Font family 'NanumBarunGothic' not found.\n",
            "WARNING:matplotlib.font_manager:findfont: Font family 'NanumBarunGothic' not found.\n",
            "WARNING:matplotlib.font_manager:findfont: Font family 'NanumBarunGothic' not found.\n",
            "WARNING:matplotlib.font_manager:findfont: Font family 'NanumBarunGothic' not found.\n",
            "WARNING:matplotlib.font_manager:findfont: Font family 'NanumBarunGothic' not found.\n",
            "WARNING:matplotlib.font_manager:findfont: Font family 'NanumBarunGothic' not found.\n"
          ]
        },
        {
          "output_type": "display_data",
          "data": {
            "text/plain": [
              "<Figure size 432x288 with 0 Axes>"
            ]
          },
          "metadata": {}
        },
        {
          "output_type": "stream",
          "name": "stderr",
          "text": [
            "WARNING:matplotlib.font_manager:findfont: Font family 'NanumBarunGothic' not found.\n",
            "WARNING:matplotlib.font_manager:findfont: Font family 'NanumBarunGothic' not found.\n",
            "WARNING:matplotlib.font_manager:findfont: Font family 'NanumBarunGothic' not found.\n",
            "WARNING:matplotlib.font_manager:findfont: Font family 'NanumBarunGothic' not found.\n",
            "WARNING:matplotlib.font_manager:findfont: Font family 'NanumBarunGothic' not found.\n",
            "WARNING:matplotlib.font_manager:findfont: Font family 'NanumBarunGothic' not found.\n",
            "WARNING:matplotlib.font_manager:findfont: Font family 'NanumBarunGothic' not found.\n",
            "WARNING:matplotlib.font_manager:findfont: Font family 'NanumBarunGothic' not found.\n",
            "WARNING:matplotlib.font_manager:findfont: Font family 'NanumBarunGothic' not found.\n",
            "WARNING:matplotlib.font_manager:findfont: Font family 'NanumBarunGothic' not found.\n",
            "WARNING:matplotlib.font_manager:findfont: Font family 'NanumBarunGothic' not found.\n",
            "WARNING:matplotlib.font_manager:findfont: Font family 'NanumBarunGothic' not found.\n",
            "WARNING:matplotlib.font_manager:findfont: Font family 'NanumBarunGothic' not found.\n",
            "WARNING:matplotlib.font_manager:findfont: Font family 'NanumBarunGothic' not found.\n",
            "WARNING:matplotlib.font_manager:findfont: Font family 'NanumBarunGothic' not found.\n",
            "WARNING:matplotlib.font_manager:findfont: Font family 'NanumBarunGothic' not found.\n",
            "WARNING:matplotlib.font_manager:findfont: Font family 'NanumBarunGothic' not found.\n",
            "WARNING:matplotlib.font_manager:findfont: Font family 'NanumBarunGothic' not found.\n",
            "WARNING:matplotlib.font_manager:findfont: Font family 'NanumBarunGothic' not found.\n",
            "WARNING:matplotlib.font_manager:findfont: Font family 'NanumBarunGothic' not found.\n",
            "WARNING:matplotlib.font_manager:findfont: Font family 'NanumBarunGothic' not found.\n",
            "WARNING:matplotlib.font_manager:findfont: Font family 'NanumBarunGothic' not found.\n",
            "WARNING:matplotlib.font_manager:findfont: Font family 'NanumBarunGothic' not found.\n",
            "WARNING:matplotlib.font_manager:findfont: Font family 'NanumBarunGothic' not found.\n",
            "WARNING:matplotlib.font_manager:findfont: Font family 'NanumBarunGothic' not found.\n",
            "WARNING:matplotlib.font_manager:findfont: Font family 'NanumBarunGothic' not found.\n",
            "WARNING:matplotlib.font_manager:findfont: Font family 'NanumBarunGothic' not found.\n",
            "WARNING:matplotlib.font_manager:findfont: Font family 'NanumBarunGothic' not found.\n",
            "WARNING:matplotlib.font_manager:findfont: Font family 'NanumBarunGothic' not found.\n",
            "WARNING:matplotlib.font_manager:findfont: Font family 'NanumBarunGothic' not found.\n",
            "WARNING:matplotlib.font_manager:findfont: Font family 'NanumBarunGothic' not found.\n",
            "WARNING:matplotlib.font_manager:findfont: Font family 'NanumBarunGothic' not found.\n",
            "WARNING:matplotlib.font_manager:findfont: Font family 'NanumBarunGothic' not found.\n",
            "WARNING:matplotlib.font_manager:findfont: Font family 'NanumBarunGothic' not found.\n",
            "WARNING:matplotlib.font_manager:findfont: Font family 'NanumBarunGothic' not found.\n",
            "WARNING:matplotlib.font_manager:findfont: Font family 'NanumBarunGothic' not found.\n",
            "WARNING:matplotlib.font_manager:findfont: Font family 'NanumBarunGothic' not found.\n",
            "WARNING:matplotlib.font_manager:findfont: Font family 'NanumBarunGothic' not found.\n",
            "WARNING:matplotlib.font_manager:findfont: Font family 'NanumBarunGothic' not found.\n",
            "WARNING:matplotlib.font_manager:findfont: Font family 'NanumBarunGothic' not found.\n",
            "WARNING:matplotlib.font_manager:findfont: Font family 'NanumBarunGothic' not found.\n",
            "WARNING:matplotlib.font_manager:findfont: Font family 'NanumBarunGothic' not found.\n",
            "WARNING:matplotlib.font_manager:findfont: Font family 'NanumBarunGothic' not found.\n",
            "WARNING:matplotlib.font_manager:findfont: Font family 'NanumBarunGothic' not found.\n",
            "WARNING:matplotlib.font_manager:findfont: Font family 'NanumBarunGothic' not found.\n",
            "WARNING:matplotlib.font_manager:findfont: Font family 'NanumBarunGothic' not found.\n",
            "WARNING:matplotlib.font_manager:findfont: Font family 'NanumBarunGothic' not found.\n",
            "WARNING:matplotlib.font_manager:findfont: Font family 'NanumBarunGothic' not found.\n",
            "WARNING:matplotlib.font_manager:findfont: Font family 'NanumBarunGothic' not found.\n",
            "WARNING:matplotlib.font_manager:findfont: Font family 'NanumBarunGothic' not found.\n",
            "WARNING:matplotlib.font_manager:findfont: Font family 'NanumBarunGothic' not found.\n",
            "WARNING:matplotlib.font_manager:findfont: Font family 'NanumBarunGothic' not found.\n",
            "WARNING:matplotlib.font_manager:findfont: Font family 'NanumBarunGothic' not found.\n",
            "WARNING:matplotlib.font_manager:findfont: Font family 'NanumBarunGothic' not found.\n",
            "WARNING:matplotlib.font_manager:findfont: Font family 'NanumBarunGothic' not found.\n",
            "WARNING:matplotlib.font_manager:findfont: Font family 'NanumBarunGothic' not found.\n",
            "WARNING:matplotlib.font_manager:findfont: Font family 'NanumBarunGothic' not found.\n",
            "WARNING:matplotlib.font_manager:findfont: Font family 'NanumBarunGothic' not found.\n",
            "WARNING:matplotlib.font_manager:findfont: Font family 'NanumBarunGothic' not found.\n",
            "WARNING:matplotlib.font_manager:findfont: Font family 'NanumBarunGothic' not found.\n",
            "WARNING:matplotlib.font_manager:findfont: Font family 'NanumBarunGothic' not found.\n",
            "WARNING:matplotlib.font_manager:findfont: Font family 'NanumBarunGothic' not found.\n",
            "WARNING:matplotlib.font_manager:findfont: Font family 'NanumBarunGothic' not found.\n",
            "WARNING:matplotlib.font_manager:findfont: Font family 'NanumBarunGothic' not found.\n",
            "WARNING:matplotlib.font_manager:findfont: Font family 'NanumBarunGothic' not found.\n",
            "WARNING:matplotlib.font_manager:findfont: Font family 'NanumBarunGothic' not found.\n",
            "WARNING:matplotlib.font_manager:findfont: Font family 'NanumBarunGothic' not found.\n",
            "WARNING:matplotlib.font_manager:findfont: Font family 'NanumBarunGothic' not found.\n",
            "WARNING:matplotlib.font_manager:findfont: Font family 'NanumBarunGothic' not found.\n",
            "WARNING:matplotlib.font_manager:findfont: Font family 'NanumBarunGothic' not found.\n",
            "WARNING:matplotlib.font_manager:findfont: Font family 'NanumBarunGothic' not found.\n",
            "WARNING:matplotlib.font_manager:findfont: Font family 'NanumBarunGothic' not found.\n",
            "WARNING:matplotlib.font_manager:findfont: Font family 'NanumBarunGothic' not found.\n",
            "WARNING:matplotlib.font_manager:findfont: Font family 'NanumBarunGothic' not found.\n",
            "WARNING:matplotlib.font_manager:findfont: Font family 'NanumBarunGothic' not found.\n",
            "WARNING:matplotlib.font_manager:findfont: Font family 'NanumBarunGothic' not found.\n",
            "WARNING:matplotlib.font_manager:findfont: Font family 'NanumBarunGothic' not found.\n",
            "WARNING:matplotlib.font_manager:findfont: Font family 'NanumBarunGothic' not found.\n",
            "WARNING:matplotlib.font_manager:findfont: Font family 'NanumBarunGothic' not found.\n",
            "WARNING:matplotlib.font_manager:findfont: Font family 'NanumBarunGothic' not found.\n",
            "WARNING:matplotlib.font_manager:findfont: Font family 'NanumBarunGothic' not found.\n",
            "WARNING:matplotlib.font_manager:findfont: Font family 'NanumBarunGothic' not found.\n",
            "WARNING:matplotlib.font_manager:findfont: Font family 'NanumBarunGothic' not found.\n",
            "WARNING:matplotlib.font_manager:findfont: Font family 'NanumBarunGothic' not found.\n",
            "WARNING:matplotlib.font_manager:findfont: Font family 'NanumBarunGothic' not found.\n",
            "WARNING:matplotlib.font_manager:findfont: Font family 'NanumBarunGothic' not found.\n",
            "WARNING:matplotlib.font_manager:findfont: Font family 'NanumBarunGothic' not found.\n",
            "WARNING:matplotlib.font_manager:findfont: Font family 'NanumBarunGothic' not found.\n",
            "WARNING:matplotlib.font_manager:findfont: Font family 'NanumBarunGothic' not found.\n",
            "WARNING:matplotlib.font_manager:findfont: Font family 'NanumBarunGothic' not found.\n",
            "WARNING:matplotlib.font_manager:findfont: Font family 'NanumBarunGothic' not found.\n",
            "WARNING:matplotlib.font_manager:findfont: Font family 'NanumBarunGothic' not found.\n",
            "WARNING:matplotlib.font_manager:findfont: Font family 'NanumBarunGothic' not found.\n",
            "WARNING:matplotlib.font_manager:findfont: Font family 'NanumBarunGothic' not found.\n",
            "WARNING:matplotlib.font_manager:findfont: Font family 'NanumBarunGothic' not found.\n",
            "WARNING:matplotlib.font_manager:findfont: Font family 'NanumBarunGothic' not found.\n",
            "WARNING:matplotlib.font_manager:findfont: Font family 'NanumBarunGothic' not found.\n",
            "WARNING:matplotlib.font_manager:findfont: Font family 'NanumBarunGothic' not found.\n",
            "WARNING:matplotlib.font_manager:findfont: Font family 'NanumBarunGothic' not found.\n",
            "WARNING:matplotlib.font_manager:findfont: Font family 'NanumBarunGothic' not found.\n",
            "WARNING:matplotlib.font_manager:findfont: Font family 'NanumBarunGothic' not found.\n",
            "WARNING:matplotlib.font_manager:findfont: Font family 'NanumBarunGothic' not found.\n",
            "WARNING:matplotlib.font_manager:findfont: Font family 'NanumBarunGothic' not found.\n",
            "WARNING:matplotlib.font_manager:findfont: Font family 'NanumBarunGothic' not found.\n",
            "WARNING:matplotlib.font_manager:findfont: Font family 'NanumBarunGothic' not found.\n",
            "WARNING:matplotlib.font_manager:findfont: Font family 'NanumBarunGothic' not found.\n",
            "WARNING:matplotlib.font_manager:findfont: Font family 'NanumBarunGothic' not found.\n",
            "WARNING:matplotlib.font_manager:findfont: Font family 'NanumBarunGothic' not found.\n"
          ]
        },
        {
          "output_type": "display_data",
          "data": {
            "text/plain": [
              "<Figure size 1728x360 with 1 Axes>"
            ],
            "image/png": "[encoded data removed]"
          },
          "metadata": {
            "needs_background": "light"
          }
        }
      ]
    },
    {
      "cell_type": "code",
      "execution_count": null,
      "metadata": {
        "id": "8efYET5EgwIx",
        "colab": {
          "base_uri": "https://localhost:8080/"
        },
        "outputId": "a695e7f1-8de3-445c-f27e-ad48e25c5b2c"
      },
      "outputs": [
        {
          "output_type": "stream",
          "name": "stdout",
          "text": [
            "Validation MSE(㎡당 가격):  110355.10147290626\n",
            "Validation MAE(㎡당 가격): 61.719647892789006\n",
            "Validation MSE(거래 금액):  1950152560933.7246\n",
            "Validation MAE(거래 금액):  174463.56185211183\n",
            "Best parameters :  80\n"
          ]
        }
      ],
      "source": [
        "# Print your validation 거래금액 mae\n",
        "# 위 코드 결과물을 기반으로 계산 (에러가 난다면 본 코드를 수정하거나 위 코드를 수정하여야 함)\n",
        "\n",
        "#####정규화된 값으로 변경함\n",
        "print('Validation MSE(㎡당 가격): ', np.mean(np.square(best_dt.predict(X_val_norm) - y_val)))\n",
        "print('Validation MAE(㎡당 가격):', np.mean(np.abs(best_dt.predict(X_val_norm) - y_val)))\n",
        "\n",
        "_price = X_val.loc[:, '전용/연면적(㎡)'] * best_dt.predict(X_val_norm)\n",
        "\n",
        "print('Validation MSE(거래 금액): ', np.mean(np.square(_price - y_val)))\n",
        "print('Validation MAE(거래 금액): ', np.mean(np.abs(_price - y_val)))\n",
        "print('Best parameters : ', best_hyperparameter)"
      ]
    },
    {
      "cell_type": "markdown",
      "metadata": {
        "id": "6Nvcmw2SgwI0"
      },
      "source": [
        "###$\\color{blue}{\\text{2.3. Implementation for Real-World Practice}}$\n",
        "\n",
        "새로운 데이터가 들어왔을 때, 지금까지 구현 된 과정을 자동으로 거쳐 새로운 input으로서 모델에 입력하고 산출물을 받을 수 있도록 구현 (test-set 개념으로 진행)"
      ]
    },
    {
      "cell_type": "code",
      "execution_count": null,
      "metadata": {
        "id": "5s38WwgcgwI0"
      },
      "outputs": [],
      "source": [
        "testy = df_test.loc[:, '거래금액(만원)']\n",
        "y_real = []\n",
        "for i in np.array(df_test.loc[:, '거래금액(만원)']) :\n",
        "    y_real.append(float(i.replace(',', '')))\n",
        "df_test = df_test.drop('거래금액(만원)', 1)\n",
        "y_price = y_real / df_test.loc[:, '전용/연면적(㎡)']"
      ]
    },
    {
      "cell_type": "code",
      "execution_count": null,
      "metadata": {
        "id": "5PIbm1j-gwI3"
      },
      "outputs": [],
      "source": [
        "import datetime\n",
        "import math\n",
        "\n",
        "# 하기의 새로운 df를 2.1에 제시 된 df로 간주하고 진행할 것.\n",
        "df = df_test.copy()\n",
        "\n",
        "#################################################################################\n",
        "# TODO: Test set 동일한 처리과정 만들기                                         #\n",
        "#                                                                               \n",
        "# Part 1.1에서 만든 방법론을 적용 (Null은 없다고 가정 - 이미 처리했음)\n",
        "# 1. 데이터 타입처리 (계약년월, 건축년도)\n",
        "# 2. 지역구 단위의 행정구역 새로운 변수 생성 (변수명 '지역구')\n",
        "# 3. 건물 년식 일 단위로 하여 새로운 변수 생성 (변수명 '건물년식') \n",
        "# 4. 평당가격 변수 추가 \n",
        "# 5. 과제 1에서 만든 새로운 파생 변수 생성  \n",
        "#################################################################################\n",
        "\n",
        "\n",
        "#1.\n",
        "##추후에 건물 년식을 계산할 것이므로 계약날짜(계약년월 + 계약일)와 건축년도를 datetime 형식으로 변환, 건축년도는 1월1일로 가정하고 datetime으로 append\n",
        "contract_date = []\n",
        "for i, j in np.array(df[['계약년월', '계약일']]):\n",
        "  contract_date.append(datetime.datetime(int(str(i)[:4]), int(str(i)[4:6]), int(j))) ##string, int 타입을 datetime 으로 변환\n",
        "df['계약날짜'] = contract_date ##계약날짜라는 변수 생성\n",
        "\n",
        "construct_yr = []\n",
        "for i in np.array(df['건축년도']):\n",
        "  construct_yr.append(datetime.datetime(int(i), 1, 1)) ##1월 1일로 가정하고 datetime 으로 변환\n",
        "df['건축년도'] = construct_yr ##건축년도 column 타입 변환\n",
        "\n",
        "\n",
        "#2.\n",
        "##지역구에 대한 예외 처리가 필요함. **구 라고 나온 값만 뽑아 넣고 싶음, 해당 구 찾고 지역구 칼럼 만들기\n",
        "gu_list2 = ['중구']\n",
        "gu_list3 = ['종로구','용산구','성동구','광진구','중랑구','성북구','강북구','도봉구','노원구','은평구','마포구','양천구','강서구','구로구','금천구','동작구','관악구','서초구','강남구','송파구','강동구']\n",
        "gu_list4 = ['서대문구', '동대문구', '영등포구']\n",
        "\n",
        "def find_gu(st):\n",
        "    for i in range(0, len(st)):\n",
        "        if st[i] == '구' :\n",
        "            tmp = st[i - 2 : i + 1]\n",
        "            if tmp in gu_list3:\n",
        "                return tmp\n",
        "            \n",
        "            tmp = st[i - 3 : i + 1]\n",
        "            if tmp in gu_list4:\n",
        "                return tmp\n",
        "            else:\n",
        "                return gu_list2[0]\n",
        "\n",
        "df['지역구'] = df['시군구'].apply(find_gu)\n",
        "\n",
        "\n",
        "#3. 계약날짜 - 건축년도 하고 날짜로 처리한 다음 건물년식이라는 column 추가\n",
        "df.loc[:, '건물년식'] = df.apply(lambda x : (x['계약날짜'] - x['건축년도']).days, axis = 1)\n",
        "\n",
        "\n",
        "#4. 평당가격 예측 값을 담기위한 빈 칼럼('평당가격') 추가, 0으로 초기화\n",
        "df.loc[:, '평당가격'] = 0.0\n",
        "\n",
        "\n",
        "#5\n",
        "##지역구 열을 통해 종합주택가격지수라는 새로운 변수를 만들어 볼것임.(해당 지역 건물의 가격을 100으로 기준잡고 등락을 숫자로 보여주는 것)\n",
        "##출처 : https://data.seoul.go.kr/dataList/801/S/2/datasetView.do  \n",
        "Price_idx = {'종로구':100.2,'중구':96.9,'용산구':101.4,'성동구':99.0,'광진구':100.0,'동대문구':97.7,\n",
        "      '중랑구':98.8,'성북구':96.5,'강북구':98.8,'도봉구':96.0,'노원구':93.8,'은평구':98.3,\n",
        "     '서대문구':97.4,'마포구':98.8,'양천구':99.1,'강서구':98.6,'구로구':99.0,'금천구':98.5,\n",
        "     '영등포구':98.1,'동작구':100.2,'관악구':98.7,'서초구':103.1,'강남구':101.2,'송파구':98.8,'강동구':99.0}\n",
        "df.loc[:, '매매가격지수'] = df['지역구'].apply(lambda x:Price_idx[x])\n",
        "\n",
        "\n",
        "\n",
        "##범주형 변수들을 수치형 변수들로 변환(one-hot encoding)\n",
        "CATEGORICAL = ['용도지역', '건축물주용도', '도로조건','지역구']\n",
        "df_1 = df.loc[:,[ '전용/연면적(㎡)', '층', '건물년식', '평당가격']]\n",
        "\n",
        "for i in CATEGORICAL :\n",
        "  if i not in df.columns:\n",
        "    continue\n",
        "  cate_i = pd.get_dummies(df.loc[:,i])\n",
        "  df_1[cate_i.columns] = cate_i\n",
        "\n",
        "df = df_1.copy()\n"
      ]
    },
    {
      "cell_type": "code",
      "execution_count": null,
      "metadata": {
        "id": "RPxjvosXd938"
      },
      "outputs": [],
      "source": [
        "#################################################################################\n",
        "# TODO: One hot encoding의 컬럼수 조정                                          #\n",
        "#                                                                               #\n",
        "# 1. training set과 test set의 범주형 변수의 종류가 달라질 수 있으므로 이를 train  \n",
        "#  set의 컬럼으로 통일 (index.isin() 활용)                                         \n",
        "#################################################################################\n",
        "\n",
        "#1\n",
        "\n",
        "##df는 여기서 test set의 dataframe\n",
        "##X_train은 training set\n",
        "for i in df.columns:\n",
        "  if i not in X_train.columns:\n",
        "    df.drop(i, 1, inplace = True) \n",
        "##df의 column을 보는데, X_train에 없는 column은 모두 없앰\n",
        "\n",
        "to_add =[]\n",
        "for i in X_train.columns:\n",
        "  if i not in df.columns:\n",
        "    to_add.append(i)\n",
        "col_dic = {}\n",
        "idx = df.index.to_list() \n",
        "\n",
        "for j in to_add:\n",
        "  col_dic[j] = [0 for k in range(df.shape[0])]\n",
        "add_df = pd.DataFrame(col_dic, index=idx)\n",
        "##train set에는 존재하지만 test set에는 없는 column들을 생성해서 데이터프레임화 (0으로 초기화)\n",
        "\n",
        "df = pd.concat([df, add_df], axis=1) \n",
        "df = df[X_train.columns.to_list()]\n",
        "##기존 데이터프레임(df)과 위에서 생성한 새로운 데이터프레임을 합치고 column들을 정렬"
      ]
    },
    {
      "cell_type": "code",
      "execution_count": null,
      "metadata": {
        "id": "eNRWkomkgrjm"
      },
      "outputs": [],
      "source": [
        "#################################################################################\n",
        "# TODO: Normalize : training set을 기준으로 진행                                #\n",
        "#                                                                               #\n",
        "# 1. training set의 cache를 활용하여 test set normalize    \n",
        "# ---- z_normalize_val(____, cache)                           \n",
        "#################################################################################\n",
        "\n",
        "## 2.2에서 정의한 normalize 함수를 적용하여 test set 정규화\n",
        "\n",
        "X_test = df \n",
        "X_test_norm = X_test.copy()\n",
        "X_test_norm.loc[:, ['전용/연면적(㎡)','층','건물년식']] = z_normalize_val(X_test, ['전용/연면적(㎡)','층','건물년식'], cache) \n"
      ]
    },
    {
      "cell_type": "code",
      "execution_count": null,
      "metadata": {
        "id": "YktmxNQAgwI5"
      },
      "outputs": [],
      "source": [
        "# Print your test 거래금액 Mean Absolute Error\n",
        "\n",
        "print('Validation MSE(㎡당 가격): ', np.mean(np.square(best_dt.predict(X_test_norm) - y_price)))\n",
        "print('Validation MAE(㎡당 가격):', np.mean(np.abs(best_dt.predict(X_test_norm) - y_price)))\n",
        "\n",
        "_price = X_test.loc[:, '전용/연면적(㎡)'] * best_dt.predict(X_test_norm)\n",
        "\n",
        "print('Validation MSE(거래 금액): ', np.mean(np.square(_price - y_real)))\n",
        "print('Validation MAE(거래 금액): ', np.mean(np.abs(_price - y_real)))"
      ]
    },
    {
      "cell_type": "code",
      "execution_count": null,
      "metadata": {
        "id": "-7_InFAWzc2f"
      },
      "outputs": [],
      "source": []
    }
  ],
  "metadata": {
    "colab": {
      "provenance": []
    },
    "kernelspec": {
      "display_name": "Python 3",
      "name": "python3"
    }
  },
  "nbformat": 4,
  "nbformat_minor": 0
}