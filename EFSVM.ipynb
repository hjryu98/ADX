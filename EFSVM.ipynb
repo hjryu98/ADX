{
  "nbformat": 4,
  "nbformat_minor": 0,
  "metadata": {
    "colab": {
      "provenance": []
    },
    "kernelspec": {
      "name": "python3",
      "display_name": "Python 3"
    }
  },
  "cells": [
    {
      "cell_type": "markdown",
      "metadata": {
        "id": "FoaODUJVs1Cy"
      },
      "source": [
        "### 6.0. Environmental Set-up & Data Loading"
      ]
    },
    {
      "cell_type": "code",
      "metadata": {
        "id": "t1UttwB13sTm",
        "colab": {
          "base_uri": "https://localhost:8080/"
        },
        "outputId": "cb3e06d6-0f47-4aed-812f-96cd1e33743d"
      },
      "source": [
        "from google.colab import drive\n",
        "\n",
        "drive.mount('/content/drive', force_remount=True)\n",
        "\n",
        "# enter the foldername in your Drive where you have saved the unzipped\n",
        "FOLDERNAME =  'ADX/'\n",
        "\n",
        "assert FOLDERNAME is not None, 'ERROR'\n",
        "\n",
        "%cd drive/My\\ Drive\n",
        "%cp -r $FOLDERNAME ../../"
      ],
      "execution_count": null,
      "outputs": [
        {
          "output_type": "stream",
          "name": "stdout",
          "text": [
            "Mounted at /content/drive\n",
            "/content/drive/My Drive\n"
          ]
        }
      ]
    },
    {
      "cell_type": "code",
      "metadata": {
        "id": "U9q2ubx0gwIo"
      },
      "source": [
        "# import libraries\n",
        "import numpy as np\n",
        "import matplotlib.pyplot as plt\n",
        "import pandas as pd\n",
        "\n",
        "import numpy as np\n",
        "import matplotlib.pyplot as plt\n",
        "import pandas as pd\n",
        "from cvxopt import matrix as cvxopt_matrix\n",
        "from cvxopt import solvers as cvxopt_solvers"
      ],
      "execution_count": null,
      "outputs": []
    },
    {
      "cell_type": "code",
      "metadata": {
        "id": "8ItspAknsiMW"
      },
      "source": [
        "data_ = pd.read_csv('./ADX/Data_CreditCard/creditcard_efsvm.csv', encoding ='cp949')\n",
        "columns_ = data_.columns"
      ],
      "execution_count": null,
      "outputs": []
    },
    {
      "cell_type": "code",
      "metadata": {
        "id": "YmFe0QZ1sk7s",
        "colab": {
          "base_uri": "https://localhost:8080/",
          "height": 299
        },
        "outputId": "b846f3eb-9196-4944-c91e-72e7096b25ee"
      },
      "source": [
        "data_.head()"
      ],
      "execution_count": null,
      "outputs": [
        {
          "output_type": "execute_result",
          "data": {
            "text/plain": [
              "         V1        V2        V3        V4        V5        V6        V7  \\\n",
              "0 -1.004929 -0.985978 -0.038039  3.710061 -6.631951  5.122103  4.371691   \n",
              "1  1.154312  0.265462  0.384871  0.575007 -0.217475 -0.391520 -0.081489   \n",
              "2  1.038370  0.127486  0.184456  1.109950  0.441699  0.945283 -0.036715   \n",
              "3  1.287226 -0.824683  1.346423 -0.525628 -1.833007 -0.477715 -1.224213   \n",
              "4 -0.592060  0.785904  2.806517  2.935466 -0.356682  1.127563 -0.225130   \n",
              "\n",
              "         V8        V9       V10  ...       V21       V22       V23       V24  \\\n",
              "0 -2.006868 -0.278736 -0.230873  ...  1.393406 -0.381671  0.969719  0.019445   \n",
              "1  0.062789 -0.260583 -0.161677  ... -0.193213 -0.557685  0.169492  0.186863   \n",
              "2  0.350995  0.118950 -0.243289  ...  0.102520  0.605089  0.023092 -0.626463   \n",
              "3  0.014774 -0.257813  0.602162  ... -0.147633  0.057765  0.052105  0.428755   \n",
              "4  0.514861 -0.757541  0.523216  ... -0.105161 -0.216887 -0.190514 -0.033156   \n",
              "\n",
              "        V25       V26       V27       V28   Amount  Class  \n",
              "0  0.570923  0.333278  0.857373 -0.075538  1402.95     -1  \n",
              "1  0.089252  0.093626 -0.009633  0.019668     2.67     -1  \n",
              "2  0.479120 -0.166937  0.081247  0.001192     1.18     -1  \n",
              "3 -0.036979  1.112152 -0.003678  0.031920    30.90     -1  \n",
              "4 -0.001445  0.200179  0.109606  0.084341    18.96     -1  \n",
              "\n",
              "[5 rows x 30 columns]"
            ],
            "text/html": [
              "\n",
              "  <div id=\"df-ed1c3dda-2b71-4c52-9895-4b4842fd3bf1\">\n",
              "    <div class=\"colab-df-container\">\n",
              "      <div>\n",
              "<style scoped>\n",
              "    .dataframe tbody tr th:only-of-type {\n",
              "        vertical-align: middle;\n",
              "    }\n",
              "\n",
              "    .dataframe tbody tr th {\n",
              "        vertical-align: top;\n",
              "    }\n",
              "\n",
              "    .dataframe thead th {\n",
              "        text-align: right;\n",
              "    }\n",
              "</style>\n",
              "<table border=\"1\" class=\"dataframe\">\n",
              "  <thead>\n",
              "    <tr style=\"text-align: right;\">\n",
              "      <th></th>\n",
              "      <th>V1</th>\n",
              "      <th>V2</th>\n",
              "      <th>V3</th>\n",
              "      <th>V4</th>\n",
              "      <th>V5</th>\n",
              "      <th>V6</th>\n",
              "      <th>V7</th>\n",
              "      <th>V8</th>\n",
              "      <th>V9</th>\n",
              "      <th>V10</th>\n",
              "      <th>...</th>\n",
              "      <th>V21</th>\n",
              "      <th>V22</th>\n",
              "      <th>V23</th>\n",
              "      <th>V24</th>\n",
              "      <th>V25</th>\n",
              "      <th>V26</th>\n",
              "      <th>V27</th>\n",
              "      <th>V28</th>\n",
              "      <th>Amount</th>\n",
              "      <th>Class</th>\n",
              "    </tr>\n",
              "  </thead>\n",
              "  <tbody>\n",
              "    <tr>\n",
              "      <th>0</th>\n",
              "      <td>-1.004929</td>\n",
              "      <td>-0.985978</td>\n",
              "      <td>-0.038039</td>\n",
              "      <td>3.710061</td>\n",
              "      <td>-6.631951</td>\n",
              "      <td>5.122103</td>\n",
              "      <td>4.371691</td>\n",
              "      <td>-2.006868</td>\n",
              "      <td>-0.278736</td>\n",
              "      <td>-0.230873</td>\n",
              "      <td>...</td>\n",
              "      <td>1.393406</td>\n",
              "      <td>-0.381671</td>\n",
              "      <td>0.969719</td>\n",
              "      <td>0.019445</td>\n",
              "      <td>0.570923</td>\n",
              "      <td>0.333278</td>\n",
              "      <td>0.857373</td>\n",
              "      <td>-0.075538</td>\n",
              "      <td>1402.95</td>\n",
              "      <td>-1</td>\n",
              "    </tr>\n",
              "    <tr>\n",
              "      <th>1</th>\n",
              "      <td>1.154312</td>\n",
              "      <td>0.265462</td>\n",
              "      <td>0.384871</td>\n",
              "      <td>0.575007</td>\n",
              "      <td>-0.217475</td>\n",
              "      <td>-0.391520</td>\n",
              "      <td>-0.081489</td>\n",
              "      <td>0.062789</td>\n",
              "      <td>-0.260583</td>\n",
              "      <td>-0.161677</td>\n",
              "      <td>...</td>\n",
              "      <td>-0.193213</td>\n",
              "      <td>-0.557685</td>\n",
              "      <td>0.169492</td>\n",
              "      <td>0.186863</td>\n",
              "      <td>0.089252</td>\n",
              "      <td>0.093626</td>\n",
              "      <td>-0.009633</td>\n",
              "      <td>0.019668</td>\n",
              "      <td>2.67</td>\n",
              "      <td>-1</td>\n",
              "    </tr>\n",
              "    <tr>\n",
              "      <th>2</th>\n",
              "      <td>1.038370</td>\n",
              "      <td>0.127486</td>\n",
              "      <td>0.184456</td>\n",
              "      <td>1.109950</td>\n",
              "      <td>0.441699</td>\n",
              "      <td>0.945283</td>\n",
              "      <td>-0.036715</td>\n",
              "      <td>0.350995</td>\n",
              "      <td>0.118950</td>\n",
              "      <td>-0.243289</td>\n",
              "      <td>...</td>\n",
              "      <td>0.102520</td>\n",
              "      <td>0.605089</td>\n",
              "      <td>0.023092</td>\n",
              "      <td>-0.626463</td>\n",
              "      <td>0.479120</td>\n",
              "      <td>-0.166937</td>\n",
              "      <td>0.081247</td>\n",
              "      <td>0.001192</td>\n",
              "      <td>1.18</td>\n",
              "      <td>-1</td>\n",
              "    </tr>\n",
              "    <tr>\n",
              "      <th>3</th>\n",
              "      <td>1.287226</td>\n",
              "      <td>-0.824683</td>\n",
              "      <td>1.346423</td>\n",
              "      <td>-0.525628</td>\n",
              "      <td>-1.833007</td>\n",
              "      <td>-0.477715</td>\n",
              "      <td>-1.224213</td>\n",
              "      <td>0.014774</td>\n",
              "      <td>-0.257813</td>\n",
              "      <td>0.602162</td>\n",
              "      <td>...</td>\n",
              "      <td>-0.147633</td>\n",
              "      <td>0.057765</td>\n",
              "      <td>0.052105</td>\n",
              "      <td>0.428755</td>\n",
              "      <td>-0.036979</td>\n",
              "      <td>1.112152</td>\n",
              "      <td>-0.003678</td>\n",
              "      <td>0.031920</td>\n",
              "      <td>30.90</td>\n",
              "      <td>-1</td>\n",
              "    </tr>\n",
              "    <tr>\n",
              "      <th>4</th>\n",
              "      <td>-0.592060</td>\n",
              "      <td>0.785904</td>\n",
              "      <td>2.806517</td>\n",
              "      <td>2.935466</td>\n",
              "      <td>-0.356682</td>\n",
              "      <td>1.127563</td>\n",
              "      <td>-0.225130</td>\n",
              "      <td>0.514861</td>\n",
              "      <td>-0.757541</td>\n",
              "      <td>0.523216</td>\n",
              "      <td>...</td>\n",
              "      <td>-0.105161</td>\n",
              "      <td>-0.216887</td>\n",
              "      <td>-0.190514</td>\n",
              "      <td>-0.033156</td>\n",
              "      <td>-0.001445</td>\n",
              "      <td>0.200179</td>\n",
              "      <td>0.109606</td>\n",
              "      <td>0.084341</td>\n",
              "      <td>18.96</td>\n",
              "      <td>-1</td>\n",
              "    </tr>\n",
              "  </tbody>\n",
              "</table>\n",
              "<p>5 rows × 30 columns</p>\n",
              "</div>\n",
              "      <button class=\"colab-df-convert\" onclick=\"convertToInteractive('df-ed1c3dda-2b71-4c52-9895-4b4842fd3bf1')\"\n",
              "              title=\"Convert this dataframe to an interactive table.\"\n",
              "              style=\"display:none;\">\n",
              "        \n",
              "  <svg xmlns=\"http://www.w3.org/2000/svg\" height=\"24px\"viewBox=\"0 0 24 24\"\n",
              "       width=\"24px\">\n",
              "    <path d=\"M0 0h24v24H0V0z\" fill=\"none\"/>\n",
              "    <path d=\"M18.56 5.44l.94 2.06.94-2.06 2.06-.94-2.06-.94-.94-2.06-.94 2.06-2.06.94zm-11 1L8.5 8.5l.94-2.06 2.06-.94-2.06-.94L8.5 2.5l-.94 2.06-2.06.94zm10 10l.94 2.06.94-2.06 2.06-.94-2.06-.94-.94-2.06-.94 2.06-2.06.94z\"/><path d=\"M17.41 7.96l-1.37-1.37c-.4-.4-.92-.59-1.43-.59-.52 0-1.04.2-1.43.59L10.3 9.45l-7.72 7.72c-.78.78-.78 2.05 0 2.83L4 21.41c.39.39.9.59 1.41.59.51 0 1.02-.2 1.41-.59l7.78-7.78 2.81-2.81c.8-.78.8-2.07 0-2.86zM5.41 20L4 18.59l7.72-7.72 1.47 1.35L5.41 20z\"/>\n",
              "  </svg>\n",
              "      </button>\n",
              "      \n",
              "  <style>\n",
              "    .colab-df-container {\n",
              "      display:flex;\n",
              "      flex-wrap:wrap;\n",
              "      gap: 12px;\n",
              "    }\n",
              "\n",
              "    .colab-df-convert {\n",
              "      background-color: #E8F0FE;\n",
              "      border: none;\n",
              "      border-radius: 50%;\n",
              "      cursor: pointer;\n",
              "      display: none;\n",
              "      fill: #1967D2;\n",
              "      height: 32px;\n",
              "      padding: 0 0 0 0;\n",
              "      width: 32px;\n",
              "    }\n",
              "\n",
              "    .colab-df-convert:hover {\n",
              "      background-color: #E2EBFA;\n",
              "      box-shadow: 0px 1px 2px rgba(60, 64, 67, 0.3), 0px 1px 3px 1px rgba(60, 64, 67, 0.15);\n",
              "      fill: #174EA6;\n",
              "    }\n",
              "\n",
              "    [theme=dark] .colab-df-convert {\n",
              "      background-color: #3B4455;\n",
              "      fill: #D2E3FC;\n",
              "    }\n",
              "\n",
              "    [theme=dark] .colab-df-convert:hover {\n",
              "      background-color: #434B5C;\n",
              "      box-shadow: 0px 1px 3px 1px rgba(0, 0, 0, 0.15);\n",
              "      filter: drop-shadow(0px 1px 2px rgba(0, 0, 0, 0.3));\n",
              "      fill: #FFFFFF;\n",
              "    }\n",
              "  </style>\n",
              "\n",
              "      <script>\n",
              "        const buttonEl =\n",
              "          document.querySelector('#df-ed1c3dda-2b71-4c52-9895-4b4842fd3bf1 button.colab-df-convert');\n",
              "        buttonEl.style.display =\n",
              "          google.colab.kernel.accessAllowed ? 'block' : 'none';\n",
              "\n",
              "        async function convertToInteractive(key) {\n",
              "          const element = document.querySelector('#df-ed1c3dda-2b71-4c52-9895-4b4842fd3bf1');\n",
              "          const dataTable =\n",
              "            await google.colab.kernel.invokeFunction('convertToInteractive',\n",
              "                                                     [key], {});\n",
              "          if (!dataTable) return;\n",
              "\n",
              "          const docLinkHtml = 'Like what you see? Visit the ' +\n",
              "            '<a target=\"_blank\" href=https://colab.research.google.com/notebooks/data_table.ipynb>data table notebook</a>'\n",
              "            + ' to learn more about interactive tables.';\n",
              "          element.innerHTML = '';\n",
              "          dataTable['output_type'] = 'display_data';\n",
              "          await google.colab.output.renderOutput(dataTable, element);\n",
              "          const docLink = document.createElement('div');\n",
              "          docLink.innerHTML = docLinkHtml;\n",
              "          element.appendChild(docLink);\n",
              "        }\n",
              "      </script>\n",
              "    </div>\n",
              "  </div>\n",
              "  "
            ]
          },
          "metadata": {},
          "execution_count": 4
        }
      ]
    },
    {
      "cell_type": "markdown",
      "metadata": {
        "id": "L4FGPJxxwBFr"
      },
      "source": [
        "### 6.1. Functions to be used"
      ]
    },
    {
      "cell_type": "code",
      "metadata": {
        "id": "KETZr-qP33ft"
      },
      "source": [
        "def Kernel_(x, y, params = 0, type_ = 'default') :\n",
        "    if type_ == 'rbf' :\n",
        "      Kernel = np.exp(- (np.sum(x **2, axis = 1).reshape(-1,1) + np.sum(y **2, axis = 1).reshape(1,-1) - 2 * x @ y.T)* params)\n",
        "      return Kernel\n",
        "    elif type_ == 'default' :\n",
        "      Kernel = np.dot(x, y.T)\n",
        "      return Kernel\n",
        "\n",
        "def Minmax_(X) :\n",
        "    return (X - X.min(axis = 0)) / (X.max(axis= 0) - X.min(axis = 0)), X.max(axis =0) , X.min(axis =0)\n",
        "\n",
        "def Standar_(X) :\n",
        "    return (X - X.mean(axis =0)) / X.std(axis = 0), X.mean(axis =0), X.std(axis = 0)\n",
        "\n",
        "def test_Standar_(X, cache): # test data의 정규화를 위해 캐시를 사용(cache hit)\n",
        "  return (X - cache['mean']) / cache['std']\n",
        "\n",
        "def Convolution(pred, real) :\n",
        "    pred = np.array(pred)\n",
        "    y = np.array(real)\n",
        "    TP = np.sum((pred == 1) & (y == 1))\n",
        "    FP = np.sum((pred == 1) & (y != 1))\n",
        "    FN = np.sum((pred != 1) & (y == 1))\n",
        "    TN = np.sum((pred != 1) & (y != 1))\n",
        "    return TP, FP, FN, TN\n",
        "\n",
        "## f1-score\n",
        "def f1_score(X):\n",
        "  TP, FP, FN, TN = X\n",
        "  Precision = TP / (TP + FP)\n",
        "  Recall = TP / (TP + FN)\n",
        "  return (Precision * Recall) * 2 / (Precision + Recall)\n",
        "\n",
        "############## Accuracy is newly included!\n",
        "def acc_precision_recall(X) :\n",
        "  TP,FP,FN,TN = X\n",
        "  return (TP + TN) / (TP + FP + FN + TN), TP / (TP + FP), TP / (TP + FN)"
      ],
      "execution_count": null,
      "outputs": []
    },
    {
      "cell_type": "code",
      "source": [
        "from sklearn.model_selection import train_test_split # data spliting with train, test set, respectively.\n",
        "\n",
        "train_x, test_x, train_y, test_y = train_test_split(data_[columns_[:-1]], data_['Class'], test_size = 0.2, random_state=0)"
      ],
      "metadata": {
        "id": "T7jfwm07uo-w"
      },
      "execution_count": null,
      "outputs": []
    },
    {
      "cell_type": "code",
      "source": [
        "cache = {}\n",
        "tr_X, cache['mean'], cache['std'] = Standar_(np.array(train_x))\n",
        "tr_y = np.array(train_y) * 1."
      ],
      "metadata": {
        "id": "-3I_FCQMwdop"
      },
      "execution_count": null,
      "outputs": []
    },
    {
      "cell_type": "markdown",
      "metadata": {
        "id": "2QNaUdUv7EZn"
      },
      "source": [
        "### 6.2. Linear Kernel Support Vector Machine"
      ]
    },
    {
      "cell_type": "code",
      "metadata": {
        "id": "IzhSuzEQ7LTZ",
        "colab": {
          "base_uri": "https://localhost:8080/"
        },
        "outputId": "f2afa8b7-5557-4473-fa38-96b4e5fe266a"
      },
      "source": [
        "###### Standardization Scaler + Linear\n",
        "\n",
        "# Hyperparameter\n",
        "C = 10 \n",
        "\n",
        "#Initializing values and computing H. Note the 1. to force to float type\n",
        "\n",
        "# train set\n",
        "tr_X = Standar_(np.array(train_x))[0]\n",
        "tr_y = np.array(train_y) * 1.\n",
        "\n",
        "# test set\n",
        "t_X = test_Standar_(np.array(test_x), cache) # cache hit를 통해 test data normalize\n",
        "t_y = np.array(test_y) * 1.\n",
        "\n",
        "tr_y = tr_y.reshape(-1,1) \n",
        "m,n = tr_X.shape\n",
        "\n",
        "#Kernel 관련 정의 numpy array 형식으로 생성\n",
        "H = Kernel_(tr_X, tr_X) * 1.\n",
        "H *= tr_y@tr_y.T\n",
        "P = cvxopt_matrix(H)\n",
        "q = cvxopt_matrix(-np.ones((m, 1)))\n",
        "G = cvxopt_matrix(np.vstack((-np.eye(m),np.eye(m))))\n",
        "h = cvxopt_matrix(np.hstack((np.zeros(m), np.ones(m) * C)))\n",
        "A = cvxopt_matrix(tr_y.reshape(1, -1))\n",
        "b = cvxopt_matrix(np.zeros(1))\n",
        "\n",
        "#Run solver\n",
        "sol = cvxopt_solvers.qp(P, q, G, h, A, b)\n",
        "alphas = np.array(sol['x'])\n",
        "\n",
        "w = ((tr_y * alphas).T @ tr_X).reshape(-1,1)\n",
        "S = ((alphas > 1e-4) & (alphas < C-1e-4)).flatten()\n",
        "b = tr_y[S] - np.sum(Kernel_(tr_X, tr_X[S], type_ = 'default')* tr_y * alphas , axis = 0).reshape(-1,1)\n",
        "\n",
        "print('Alphas = ',alphas[(alphas > 1e-4) & (alphas < C-1e-4)])\n",
        "print('')\n",
        "print('w = ', w.flatten())\n",
        "print('')\n",
        "print('b = ', np.mean(b))\n",
        "print('')\n",
        "print(\"support vector : \", np.array(range(m))[S])"
      ],
      "execution_count": null,
      "outputs": [
        {
          "output_type": "stream",
          "name": "stdout",
          "text": [
            "     pcost       dcost       gap    pres   dres\n",
            " 0: -1.3852e+03 -3.3325e+05  1e+06  1e+00  2e-12\n",
            " 1: -1.1043e+03 -1.4959e+05  3e+05  2e-01  2e-12\n",
            " 2: -8.4482e+02 -5.8984e+04  1e+05  8e-02  1e-12\n",
            " 3: -7.6965e+02 -4.1854e+04  7e+04  5e-02  6e-13\n",
            " 4: -7.1372e+02 -3.3043e+04  5e+04  3e-02  6e-13\n",
            " 5: -6.5268e+02 -2.2977e+04  3e+04  2e-02  5e-13\n",
            " 6: -6.0107e+02 -1.6055e+04  2e+04  1e-02  4e-13\n",
            " 7: -5.8120e+02 -1.0010e+04  1e+04  4e-03  4e-13\n",
            " 8: -5.7665e+02 -7.5510e+03  8e+03  3e-03  3e-13\n",
            " 9: -5.9370e+02 -4.6041e+03  4e+03  1e-03  3e-13\n",
            "10: -6.3569e+02 -4.2828e+03  4e+03  9e-04  4e-13\n",
            "11: -6.7344e+02 -3.6511e+03  3e+03  6e-04  4e-13\n",
            "12: -6.8956e+02 -3.1797e+03  3e+03  4e-04  4e-13\n",
            "13: -7.0496e+02 -2.2329e+03  2e+03  1e-04  4e-13\n",
            "14: -7.1935e+02 -2.2245e+03  2e+03  9e-05  4e-13\n",
            "15: -7.0866e+02 -2.1217e+03  1e+03  6e-05  4e-13\n",
            "16: -7.2717e+02 -1.8683e+03  1e+03  4e-05  4e-13\n",
            "17: -7.5164e+02 -1.4269e+03  7e+02  2e-05  4e-13\n",
            "18: -7.6513e+02 -1.4221e+03  7e+02  1e-05  5e-13\n",
            "19: -7.7164e+02 -1.3842e+03  6e+02  1e-05  4e-13\n",
            "20: -7.6996e+02 -1.3398e+03  6e+02  6e-06  5e-13\n",
            "21: -7.8692e+02 -1.2841e+03  5e+02  5e-06  4e-13\n",
            "22: -7.9366e+02 -1.2678e+03  5e+02  4e-06  4e-13\n",
            "23: -7.8993e+02 -1.2536e+03  5e+02  3e-06  4e-13\n",
            "24: -7.9134e+02 -1.2463e+03  5e+02  3e-06  4e-13\n",
            "25: -8.0918e+02 -1.1725e+03  4e+02  2e-06  4e-13\n",
            "26: -8.1853e+02 -1.1552e+03  3e+02  1e-06  5e-13\n",
            "27: -8.1015e+02 -1.1456e+03  3e+02  1e-06  4e-13\n",
            "28: -8.2758e+02 -1.0515e+03  2e+02  7e-07  5e-13\n",
            "29: -8.3450e+02 -9.1781e+02  8e+01  2e-07  5e-13\n",
            "30: -8.3777e+02 -8.7609e+02  4e+01  4e-08  5e-13\n",
            "31: -8.3953e+02 -8.5121e+02  1e+01  8e-10  6e-13\n",
            "32: -8.3975e+02 -8.4544e+02  6e+00  3e-10  5e-13\n",
            "33: -8.3977e+02 -8.4539e+02  6e+00  3e-10  5e-13\n",
            "34: -8.3983e+02 -8.4467e+02  5e+00  2e-10  4e-13\n",
            "35: -8.3990e+02 -8.4385e+02  4e+00  2e-10  5e-13\n",
            "36: -8.3994e+02 -8.4327e+02  3e+00  1e-10  5e-13\n",
            "37: -8.3998e+02 -8.4278e+02  3e+00  8e-11  5e-13\n",
            "38: -8.4005e+02 -8.4203e+02  2e+00  2e-11  5e-13\n",
            "39: -8.4008e+02 -8.4193e+02  2e+00  2e-11  5e-13\n",
            "40: -8.4012e+02 -8.4169e+02  2e+00  1e-11  5e-13\n",
            "41: -8.4011e+02 -8.4155e+02  1e+00  6e-12  5e-13\n",
            "42: -8.4017e+02 -8.4118e+02  1e+00  3e-12  5e-13\n",
            "43: -8.4023e+02 -8.4082e+02  6e-01  2e-12  5e-13\n",
            "44: -8.4027e+02 -8.4052e+02  3e-01  5e-13  5e-13\n",
            "45: -8.4029e+02 -8.4035e+02  6e-02  4e-14  6e-13\n",
            "46: -8.4030e+02 -8.4030e+02  2e-03  8e-14  6e-13\n",
            "47: -8.4030e+02 -8.4030e+02  2e-05  9e-14  6e-13\n",
            "Optimal solution found.\n",
            "Alphas =  [0.01537925 0.01583068 0.01472952 ... 0.0182347  0.01881576 0.01463401]\n",
            "\n",
            "w =  [ 0.0285451   0.14862334 -0.0751449   0.04264748  0.00494965 -0.04865704\n",
            " -0.2833241   0.0428331  -0.04683452 -0.15944371  0.09783297 -0.2438384\n",
            " -0.00321334 -0.27375961 -0.00449061 -0.18485049 -0.48841298 -0.09366389\n",
            "  0.02935481 -0.01906149  0.00718906  0.01205439  0.03015509 -0.0026279\n",
            "  0.01062334  0.00240949  0.00830733  0.02039481  0.14525576]\n",
            "\n",
            "b =  -0.7131520124625487\n",
            "\n",
            "support vector :  [   0    1    3 ... 3997 3998 3999]\n"
          ]
        }
      ]
    },
    {
      "cell_type": "code",
      "metadata": {
        "id": "lsG4K055FA72",
        "colab": {
          "base_uri": "https://localhost:8080/"
        },
        "outputId": "0943849b-019f-4650-9d6c-f2758532e199"
      },
      "source": [
        "# Solution\n",
        "pred_sol = np.sign(np.sum(Kernel_(tr_X, t_X ,type_ = 'default')* tr_y * alphas, axis = 0).reshape(-1,1) + b[0])\n",
        "#accuracy(Convolution(pred_sol,y))\n",
        "LINEAR_STANDARD_SVM = acc_precision_recall(Convolution(pred_sol.flatten(),t_y))\n",
        "acc_precision_recall(Convolution(pred_sol.flatten(),t_y)) "
      ],
      "execution_count": null,
      "outputs": [
        {
          "output_type": "execute_result",
          "data": {
            "text/plain": [
              "(0.996, 1.0, 0.9130434782608695)"
            ]
          },
          "metadata": {},
          "execution_count": 9
        }
      ]
    },
    {
      "cell_type": "markdown",
      "metadata": {
        "id": "dr50olgxs-Y5"
      },
      "source": [
        "### 6.3. Gaussian (RBF) Kernel Support Vector Machines"
      ]
    },
    {
      "cell_type": "code",
      "metadata": {
        "id": "lq8V0R3vtZ-7",
        "colab": {
          "base_uri": "https://localhost:8080/"
        },
        "outputId": "d5fce8ad-99d3-4f4e-dc99-e6278e360140"
      },
      "source": [
        "###### Standardization Scaler + RBF\n",
        "\n",
        "# Hyperparameter\n",
        "C = 10\n",
        "Gamma = 2\n",
        "\n",
        "#Initializing values and computing H. Note the 1. to force to float type\n",
        "\n",
        "# train set\n",
        "tr_X = Standar_(np.array(train_x))[0]\n",
        "tr_y = np.array(train_y) * 1.\n",
        "\n",
        "# test set\n",
        "t_X = test_Standar_(np.array(test_x), cache)\n",
        "t_y = np.array(test_y) * 1.\n",
        "\n",
        "tr_y = tr_y.reshape(-1,1) \n",
        "m,n = tr_X.shape\n",
        "\n",
        "#Kernel 관련 정의 numpy array 형식으로 생성\n",
        "H = Kernel_(tr_X, tr_X, params = Gamma, type_ = 'rbf')* 1.\n",
        "H *= tr_y@tr_y.T \n",
        "P = cvxopt_matrix(H)\n",
        "q = cvxopt_matrix(-np.ones((m, 1)))\n",
        "G = cvxopt_matrix(np.vstack((-np.eye(m),np.eye(m))))\n",
        "h = cvxopt_matrix(np.hstack((np.zeros(m), np.ones(m) * C)))\n",
        "A = cvxopt_matrix(tr_y.reshape(1, -1))\n",
        "b = cvxopt_matrix(np.zeros(1))\n",
        "\n",
        "#Run solver\n",
        "sol = cvxopt_solvers.qp(P, q, G, h, A, b)\n",
        "alphas = np.array(sol['x'])\n",
        "\n",
        "#Results\n",
        "S = ((alphas > 1e-4) & (alphas < C-1e-4)).flatten()\n",
        "b = tr_y[S] - np.sum(Kernel_(tr_X, tr_X[S]  , params = 2, type_ = 'rbf')* tr_y * alphas , axis = 0).reshape(-1,1)\n",
        "print('Alphas = ',alphas[(alphas > 1e-4) & (alphas < C-1e-4)])\n",
        "print('')\n",
        "print('b = ', b)\n",
        "print('')\n",
        "print(\"support vector : \", np.array(range(m))[S])"
      ],
      "execution_count": null,
      "outputs": [
        {
          "output_type": "stream",
          "name": "stdout",
          "text": [
            "     pcost       dcost       gap    pres   dres\n",
            " 0:  2.4642e+03 -7.1560e+04  7e+04  2e-12  9e-15\n",
            " 1:  1.0117e+03 -1.0887e+04  1e+04  9e-14  9e-15\n",
            " 2: -2.3895e+02 -1.3030e+03  1e+03  2e-13  2e-15\n",
            " 3: -3.6627e+02 -4.4467e+02  8e+01  2e-13  1e-15\n",
            " 4: -3.6945e+02 -3.7439e+02  5e+00  1e-13  2e-16\n",
            " 5: -3.6955e+02 -3.7021e+02  7e-01  4e-14  8e-17\n",
            " 6: -3.6956e+02 -3.6969e+02  1e-01  1e-14  6e-17\n",
            " 7: -3.6957e+02 -3.6959e+02  3e-02  2e-14  6e-17\n",
            " 8: -3.6957e+02 -3.6958e+02  8e-03  1e-14  5e-17\n",
            " 9: -3.6957e+02 -3.6957e+02  1e-03  2e-14  6e-17\n",
            "10: -3.6957e+02 -3.6957e+02  4e-04  8e-15  7e-17\n",
            "Optimal solution found.\n",
            "Alphas =  [0.08663558 0.11274174 1.88716211 ... 0.07494454 0.08459847 0.11283827]\n",
            "\n",
            "b =  [[-0.88716153]\n",
            " [-0.88716168]\n",
            " [-0.88716211]\n",
            " ...\n",
            " [-0.88716144]\n",
            " [-0.88716151]\n",
            " [-0.88716168]]\n",
            "\n",
            "support vector :  [   0    1    2 ... 3997 3998 3999]\n"
          ]
        }
      ]
    },
    {
      "cell_type": "code",
      "metadata": {
        "id": "wNoL-oPexpjF",
        "colab": {
          "base_uri": "https://localhost:8080/"
        },
        "outputId": "616501b8-f6ce-4231-b79f-3e4fa1e62361"
      },
      "source": [
        "# Solution\n",
        "pred_sol = np.sign(np.sum(Kernel_(tr_X, t_X  , params = 2, type_ = 'rbf')* tr_y * alphas , axis = 0).reshape(-1,1) + b[0])\n",
        "GAUSSIAN_STANDARD_SVM = acc_precision_recall(Convolution(pred_sol.flatten(),t_y))\n",
        "acc_precision_recall(Convolution(pred_sol.flatten(),t_y))"
      ],
      "execution_count": null,
      "outputs": [
        {
          "output_type": "execute_result",
          "data": {
            "text/plain": [
              "(0.957, 1.0, 0.06521739130434782)"
            ]
          },
          "metadata": {},
          "execution_count": 11
        }
      ]
    },
    {
      "cell_type": "markdown",
      "metadata": {
        "id": "Ft_R428qDUqe"
      },
      "source": [
        "### 6.4. Entropy-based Fuzzy Membership & $s_i$ for EFSVM"
      ]
    },
    {
      "cell_type": "markdown",
      "metadata": {
        "id": "GEH_sQhNuY9t"
      },
      "source": [
        "### You should use the following hyperparameters to compute $s_i$ for EFSVM\n",
        "\n",
        "Hyperparameter: $k = 7$, $m = 10$, $\\beta$ = 1/18 $\\in(0, \\frac{1}{m-1}]$"
      ]
    },
    {
      "cell_type": "code",
      "metadata": {
        "id": "kciMlJb1vEPj"
      },
      "source": [
        "# You could use the following function to calculate the entropy\n",
        "from scipy.stats import entropy\n",
        "\n",
        "# You can use the following function to calculate the Euclidean distance (distance.cdist)\n",
        "from scipy.spatial import distance"
      ],
      "execution_count": null,
      "outputs": []
    },
    {
      "cell_type": "code",
      "metadata": {
        "id": "SNI6viRc1R1z"
      },
      "source": [
        "# Hyperparameter\n",
        "C = 10\n",
        "Gamma = 2 \n",
        "k = 7 # Number of Nearest Neighbor\n",
        "m = 10\n",
        "beta = 1/18"
      ],
      "execution_count": null,
      "outputs": []
    },
    {
      "cell_type": "code",
      "metadata": {
        "id": "xWqq7QzDChdk"
      },
      "source": [
        "#################################################################################\n",
        "# TODO: Generate s_i !!!!!\n",
        "# 1. Euclidean distance 계산\n",
        "# 2. Negative class에 대한 Entropy 계산 (k=7 사용)\n",
        "# 3. m = 10 / beta = 1/18을 사용하여 Entropy-based Fuzzy Membership 계산\n",
        "# 4. Positive와 Negative class 모두에 대해 si 부여\n",
        "#################################################################################\n",
        "\n",
        "#1\n",
        "def getDist(X):\n",
        "    return distance.cdist(X, X, metric = 'euclidean')\n",
        "\n",
        "#2\n",
        "def getEntropy(X, y, k):\n",
        "    Distance = getDist(X) # 유클리드 거리를 저장\n",
        "    knn_neg = [np.argsort(Distance[idx])[1:k+1] for idx, val in enumerate(y) if val < 0] # 하나의 negative class로부터 가까운 7개의 점의 거리를 가진 점들의 인덱스를 정렬시켜서 저장한 것\n",
        "    Entropy = [] # entropies\n",
        "    \n",
        "    for indexs in knn_neg:\n",
        "        p_cnt = len([y[idx] for idx in indexs if y[idx] > 0])\n",
        "        pr_pos = p_cnt / k # positive 확률\n",
        "        pr_neg = 1 - pr_pos # negative 확률\n",
        "        H_i = entropy([pr_pos, pr_neg]) # 엔트로피 계산\n",
        "        Entropy.append(H_i) # 엔트로피 list append\n",
        "\n",
        "    return Entropy\n",
        "\n",
        "#3\n",
        "def EFMember(Entropy, m, beta):\n",
        "    H_min = min(Entropy) # minimum H\n",
        "    H_max = max(Entropy) # maximum H\n",
        "\n",
        "    sub = {}\n",
        "    for l in range(1, m + 1):\n",
        "        thrUp = H_min + (H_max - H_min)*(l / m)\n",
        "        thrLow = H_min + (H_max - H_min)* (l - 1) / m\n",
        "        \n",
        "        temp = []\n",
        "        for i, H in enumerate(Entropy): \n",
        "            cond = (thrLow <= H and thrUp >= H) if l == m else (thrLow <= H and thrUp > H)\n",
        "            if cond: # 조건에 만족하는 엔트로피는 그 인덱스를 list에 저장\n",
        "                temp.append(i)\n",
        "\n",
        "        if len(temp) == 0: # 조건에 만족한 엔트로피가 없다면, FM계산 없이 넘어가기\n",
        "          continue\n",
        "\n",
        "        fm = 1.0 - beta * l\n",
        "        sub[fm] = temp # 해당하는 점들을 FM값으로 그룹핑\n",
        "   \n",
        "    return sub\n",
        "\n",
        "#4\n",
        "def getsi(X, FM, y):\n",
        "    si = []\n",
        "    neg_class = [idx for idx, val in enumerate(y) if val < 0] # negative class들의 인덱스\n",
        "\n",
        "    for i in range(len(y)):\n",
        "      if i in neg_class: # negative class\n",
        "        for j in FM:\n",
        "          if neg_class.index(i) in FM[j]: # .index(i)로 참조해야 올바르게 FM[j]에서 값을 참조할 수 있음\n",
        "            si.append(j)\n",
        "            break\n",
        "      else: # positive class\n",
        "        si.append(1.0)\n",
        "      \n",
        "    return si"
      ],
      "execution_count": null,
      "outputs": []
    },
    {
      "cell_type": "code",
      "source": [
        "# calculate entropy\n",
        "entr = getEntropy(tr_X, tr_y, k)\n",
        "\n",
        "# calculate fuzzy membership\n",
        "membership = EFMember(entr, m, beta)\n",
        "\n",
        "# calculate s_i\n",
        "si_array = np.array(getsi(tr_X,membership, tr_y))"
      ],
      "metadata": {
        "id": "stLh02EIztMA"
      },
      "execution_count": null,
      "outputs": []
    },
    {
      "cell_type": "markdown",
      "metadata": {
        "id": "yYB0N-uFDyPF"
      },
      "source": [
        "### 2.2.5. Linear Kernel Entropy Fuzzy Support Vector Machine (Standard Scaler)"
      ]
    },
    {
      "cell_type": "code",
      "metadata": {
        "id": "saEp988iONvs",
        "colab": {
          "base_uri": "https://localhost:8080/"
        },
        "outputId": "494dfd60-17f8-4ca9-9afb-2ce5a218c968"
      },
      "source": [
        "#################################################################################\n",
        "# TODO: 위 Linear Kernel SVM을 사용하여 Linear Kernel EFSVM 구현\n",
        "#################################################################################\n",
        "\n",
        "###### Standardization Scaler + Linear\n",
        "\n",
        "#Initializing values and computing H. Note the 1. to force to float type\n",
        "\n",
        "# train set\n",
        "tr_X = Standar_(np.array(train_x))[0]\n",
        "tr_y = np.array(train_y) * 1.\n",
        "\n",
        "# test set\n",
        "t_X = test_Standar_(np.array(test_x), cache)\n",
        "t_y = np.array(test_y) * 1.\n",
        "\n",
        "tr_y = tr_y.reshape(-1,1) \n",
        "m,n = tr_X.shape\n",
        "\n",
        "#Kernel 관련 정의 numpy array 형식으로 생성\n",
        "H = Kernel_(tr_X, tr_X) * 1.\n",
        "H *= tr_y@tr_y.T\n",
        "P = cvxopt_matrix(H)\n",
        "q = cvxopt_matrix(-np.ones((m, 1)))\n",
        "G = cvxopt_matrix(np.vstack((-np.eye(m),np.eye(m))))\n",
        "\n",
        "h = cvxopt_matrix(np.hstack((np.zeros(m), np.ones(m) * si_array * C)))\n",
        "A = cvxopt_matrix(tr_y.reshape(1, -1))\n",
        "b = cvxopt_matrix(np.zeros(1))\n",
        "\n",
        "#Run solver\n",
        "sol = cvxopt_solvers.qp(P, q, G, h, A, b)\n",
        "alphas = np.array(sol['x'])\n",
        "\n",
        "w = ((tr_y * alphas).T @ tr_X).reshape(-1,1)\n",
        "S = ((alphas > 1e-4) & (alphas < C-1e-4)).flatten()\n",
        "b = tr_y[S] - np.sum(Kernel_(tr_X, tr_X[S], type_ = 'default')* tr_y * alphas , axis = 0).reshape(-1,1)\n",
        "\n",
        "print('Alphas = ',alphas[(alphas > 1e-4) & (alphas < C-1e-4)])\n",
        "print('')\n",
        "print('w = ', w.flatten())\n",
        "print('')\n",
        "print('b = ', np.mean(b))\n",
        "print('')\n",
        "print(\"support vector : \", np.array(range(m))[S])\n",
        "\n"
      ],
      "execution_count": null,
      "outputs": [
        {
          "output_type": "stream",
          "name": "stdout",
          "text": [
            "     pcost       dcost       gap    pres   dres\n",
            " 0: -1.3230e+03 -3.2672e+05  1e+06  1e+00  2e-12\n",
            " 1: -1.0822e+03 -1.4910e+05  3e+05  3e-01  1e-12\n",
            " 2: -8.3100e+02 -5.8474e+04  1e+05  8e-02  9e-13\n",
            " 3: -7.4760e+02 -3.8986e+04  6e+04  4e-02  6e-13\n",
            " 4: -6.6724e+02 -2.5859e+04  4e+04  2e-02  5e-13\n",
            " 5: -6.1174e+02 -2.2172e+04  3e+04  2e-02  4e-13\n",
            " 6: -5.6336e+02 -1.5225e+04  2e+04  7e-03  4e-13\n",
            " 7: -5.5280e+02 -9.0224e+03  1e+04  3e-03  4e-13\n",
            " 8: -5.6196e+02 -5.8372e+03  6e+03  1e-03  4e-13\n",
            " 9: -5.9079e+02 -4.3130e+03  4e+03  8e-04  4e-13\n",
            "10: -6.1445e+02 -3.8945e+03  3e+03  6e-04  4e-13\n",
            "11: -6.6127e+02 -2.8891e+03  2e+03  2e-04  4e-13\n",
            "12: -6.5258e+02 -2.8010e+03  2e+03  2e-04  5e-13\n",
            "13: -6.7919e+02 -2.3999e+03  2e+03  1e-04  4e-13\n",
            "14: -6.9520e+02 -2.2656e+03  2e+03  1e-04  4e-13\n",
            "15: -6.9812e+02 -2.0141e+03  1e+03  4e-05  4e-13\n",
            "16: -7.1036e+02 -1.9584e+03  1e+03  4e-05  4e-13\n",
            "17: -7.0314e+02 -1.8694e+03  1e+03  2e-05  4e-13\n",
            "18: -7.3842e+02 -1.5657e+03  8e+02  1e-05  4e-13\n",
            "19: -7.4776e+02 -1.4057e+03  7e+02  6e-06  4e-13\n",
            "20: -7.6462e+02 -1.2046e+03  4e+02  3e-06  4e-13\n",
            "21: -7.7117e+02 -1.1996e+03  4e+02  3e-06  4e-13\n",
            "22: -7.8459e+02 -1.1807e+03  4e+02  2e-06  4e-13\n",
            "23: -7.8374e+02 -1.1773e+03  4e+02  2e-06  4e-13\n",
            "24: -7.9629e+02 -1.1413e+03  3e+02  2e-06  4e-13\n",
            "25: -7.9967e+02 -1.1153e+03  3e+02  1e-06  4e-13\n",
            "26: -8.0804e+02 -1.0893e+03  3e+02  8e-07  4e-13\n",
            "27: -8.1641e+02 -1.0613e+03  2e+02  7e-07  4e-13\n",
            "28: -8.2221e+02 -1.0454e+03  2e+02  5e-07  4e-13\n",
            "29: -8.1754e+02 -1.0320e+03  2e+02  4e-07  4e-13\n",
            "30: -8.2487e+02 -9.8984e+02  2e+02  2e-07  5e-13\n",
            "31: -8.3254e+02 -9.2231e+02  9e+01  7e-08  5e-13\n",
            "32: -8.3650e+02 -8.7746e+02  4e+01  3e-08  5e-13\n",
            "33: -8.3829e+02 -8.6503e+02  3e+01  7e-09  5e-13\n",
            "34: -8.3942e+02 -8.4882e+02  9e+00  2e-09  6e-13\n",
            "35: -8.3969e+02 -8.4546e+02  6e+00  1e-09  5e-13\n",
            "36: -8.3969e+02 -8.4543e+02  6e+00  9e-10  5e-13\n",
            "37: -8.3972e+02 -8.4540e+02  6e+00  9e-10  5e-13\n",
            "38: -8.3990e+02 -8.4344e+02  4e+00  3e-10  5e-13\n",
            "39: -8.3992e+02 -8.4318e+02  3e+00  2e-10  5e-13\n",
            "40: -8.4000e+02 -8.4224e+02  2e+00  1e-10  5e-13\n",
            "41: -8.4001e+02 -8.4224e+02  2e+00  1e-10  5e-13\n",
            "42: -8.4007e+02 -8.4206e+02  2e+00  7e-11  5e-13\n",
            "43: -8.4007e+02 -8.4205e+02  2e+00  7e-11  5e-13\n",
            "44: -8.4007e+02 -8.4201e+02  2e+00  6e-11  4e-13\n",
            "45: -8.4011e+02 -8.4159e+02  1e+00  4e-11  5e-13\n",
            "46: -8.4015e+02 -8.4128e+02  1e+00  2e-11  5e-13\n",
            "47: -8.4018e+02 -8.4111e+02  9e-01  1e-11  5e-13\n",
            "48: -8.4020e+02 -8.4097e+02  8e-01  7e-12  5e-13\n",
            "49: -8.4021e+02 -8.4084e+02  6e-01  4e-12  4e-13\n",
            "50: -8.4024e+02 -8.4063e+02  4e-01  1e-12  5e-13\n",
            "51: -8.4026e+02 -8.4050e+02  2e-01  5e-14  6e-13\n",
            "52: -8.4028e+02 -8.4042e+02  1e-01  5e-14  5e-13\n",
            "53: -8.4029e+02 -8.4034e+02  5e-02  1e-14  6e-13\n",
            "54: -8.4030e+02 -8.4030e+02  2e-03  5e-14  6e-13\n",
            "55: -8.4030e+02 -8.4030e+02  2e-05  5e-14  6e-13\n",
            "Optimal solution found.\n",
            "Alphas =  [0.00991455 0.00888037 0.01218274 ... 0.01248921 0.01588367 0.00872818]\n",
            "\n",
            "w =  [ 0.02854447  0.14862263 -0.07514541  0.04264766  0.00494911 -0.04865685\n",
            " -0.28332342  0.04283305 -0.04683456 -0.15944385  0.09783289 -0.24383823\n",
            " -0.00321331 -0.27375932 -0.0044906  -0.1848503  -0.48841259 -0.09366382\n",
            "  0.02935475 -0.01906129  0.00718916  0.01205432  0.03015487 -0.00262787\n",
            "  0.01062328  0.00240947  0.00830731  0.02039468  0.14525476]\n",
            "\n",
            "b =  -0.7131520239989918\n",
            "\n",
            "support vector :  [   0    1    3 ... 3997 3998 3999]\n"
          ]
        }
      ]
    },
    {
      "cell_type": "code",
      "metadata": {
        "id": "k76zlyIQEjto",
        "colab": {
          "base_uri": "https://localhost:8080/"
        },
        "outputId": "57313d1d-5e19-41d0-c464-ea5ff056fdea"
      },
      "source": [
        "# Solution\n",
        "pred_sol = np.sign(np.sum(Kernel_(tr_X, t_X  ,type_ = 'default')* tr_y * alphas , axis = 0).reshape(-1,1) + b[0])\n",
        "LINEAR_FUZZY_ENTROPY_SVM = acc_precision_recall(Convolution(pred_sol.flatten(),t_y))\n",
        "acc_precision_recall(Convolution(pred_sol.flatten(),t_y))"
      ],
      "execution_count": null,
      "outputs": [
        {
          "output_type": "execute_result",
          "data": {
            "text/plain": [
              "(0.996, 1.0, 0.9130434782608695)"
            ]
          },
          "metadata": {},
          "execution_count": 17
        }
      ]
    },
    {
      "cell_type": "markdown",
      "metadata": {
        "id": "f3BQbnkutKuc"
      },
      "source": [
        "### 2.2.6. Gaussian (RBF) Kernel Entropy Fuzzy Support Vector Machine (Standard Scaler)"
      ]
    },
    {
      "cell_type": "code",
      "metadata": {
        "id": "meEqbT74EjEQ",
        "colab": {
          "base_uri": "https://localhost:8080/"
        },
        "outputId": "c19966bd-b527-4f26-e88e-1da4aebdf641"
      },
      "source": [
        "#################################################################################\n",
        "# TODO: 위 Gaussian (RBF) Kernel SVM을 사용하여 Gaussian (RBF) Kernel EFSVM 구현\n",
        "#################################################################################\n",
        "\n",
        "\n",
        "C = 10\n",
        "Gamma = 2\n",
        "\n",
        "#Initializing values and computing H. Note the 1. to force to float type\n",
        "\n",
        "# train set\n",
        "tr_X = Standar_(np.array(train_x))[0]\n",
        "tr_y = np.array(train_y) * 1.\n",
        "\n",
        "# test set\n",
        "t_X = test_Standar_(np.array(test_x), cache)\n",
        "t_y = np.array(test_y) * 1.\n",
        "\n",
        "tr_y = tr_y.reshape(-1,1) \n",
        "m,n = tr_X.shape\n",
        "\n",
        "#Kernel 관련 정의 numpy array 형식으로 생성\n",
        "H = Kernel_(tr_X,  tr_X  , params = Gamma, type_ = 'rbf')* 1.\n",
        "H *= tr_y@tr_y.T \n",
        "P = cvxopt_matrix(H)\n",
        "q = cvxopt_matrix(-np.ones((m, 1)))\n",
        "G = cvxopt_matrix(np.vstack((-np.eye(m),np.eye(m))))\n",
        "h = cvxopt_matrix(np.hstack((np.zeros(m), np.ones(m) * si_array * C)))\n",
        "A = cvxopt_matrix(tr_y.reshape(1, -1))\n",
        "b = cvxopt_matrix(np.zeros(1))\n",
        "\n",
        "#Run solver\n",
        "sol = cvxopt_solvers.qp(P, q, G, h, A, b)\n",
        "alphas = np.array(sol['x'])\n",
        "\n",
        "#Results\n",
        "S = ((alphas > 1e-4) & (alphas < C-1e-4)).flatten()\n",
        "b = tr_y[S] - np.sum(Kernel_(tr_X, tr_X[S]  , params = 2, type_ = 'rbf')* tr_y * alphas , axis = 0).reshape(-1,1)\n",
        "print('Alphas = ',alphas[(alphas > 1e-4) & (alphas < C-1e-4)])\n",
        "print('')\n",
        "print('b = ', b[0])\n",
        "print('')\n",
        "print(\"support vector : \", np.array(range(m))[S])"
      ],
      "execution_count": null,
      "outputs": [
        {
          "output_type": "stream",
          "name": "stdout",
          "text": [
            "     pcost       dcost       gap    pres   dres\n",
            " 0:  2.3207e+03 -6.9181e+04  2e+05  3e-01  9e-15\n",
            " 1:  2.6920e+03 -1.1413e+04  1e+04  7e-04  2e-15\n",
            " 2:  6.9219e+01 -2.6099e+03  3e+03  2e-14  9e-15\n",
            " 3: -3.4250e+02 -6.3548e+02  3e+02  1e-13  2e-15\n",
            " 4: -3.6854e+02 -3.9426e+02  3e+01  2e-14  6e-16\n",
            " 5: -3.6949e+02 -3.7089e+02  1e+00  9e-15  1e-16\n",
            " 6: -3.6955e+02 -3.6984e+02  3e-01  2e-14  8e-17\n",
            " 7: -3.6956e+02 -3.6962e+02  6e-02  8e-15  7e-17\n",
            " 8: -3.6957e+02 -3.6958e+02  1e-02  1e-14  6e-17\n",
            " 9: -3.6957e+02 -3.6957e+02  4e-03  1e-14  8e-17\n",
            "10: -3.6957e+02 -3.6957e+02  7e-04  6e-15  7e-17\n",
            "11: -3.6957e+02 -3.6957e+02  2e-04  9e-16  5e-17\n",
            "Optimal solution found.\n",
            "Alphas =  [0.08663554 0.11274174 1.88716187 ... 0.07494438 0.08459839 0.11283828]\n",
            "\n",
            "b =  [-0.88716158]\n",
            "\n",
            "support vector :  [   0    1    2 ... 3997 3998 3999]\n"
          ]
        }
      ]
    },
    {
      "cell_type": "code",
      "metadata": {
        "id": "0K4C4aWgHsY-",
        "colab": {
          "base_uri": "https://localhost:8080/"
        },
        "outputId": "5b066936-0ade-44f4-fd42-644172f24c0a"
      },
      "source": [
        "pred_sol = np.sign(np.sum(Kernel_(tr_X, t_X, params = 2, type_ = 'rbf')* tr_y * alphas , axis = 0).reshape(-1,1) + b[0])\n",
        "GAUSSIAN_FUZZY_ENTROPY_SVM = acc_precision_recall(Convolution(pred_sol.flatten(),t_y))\n",
        "acc_precision_recall(Convolution(pred_sol.flatten(),t_y))"
      ],
      "execution_count": null,
      "outputs": [
        {
          "output_type": "execute_result",
          "data": {
            "text/plain": [
              "(0.957, 1.0, 0.06521739130434782)"
            ]
          },
          "metadata": {},
          "execution_count": 19
        }
      ]
    },
    {
      "cell_type": "code",
      "source": [
        "LINEAR_STANDARD_SVM=pd.Series(LINEAR_STANDARD_SVM,index=['Accuracy','Precision','Recall'],name='LINEAR_STANDARD_SVM')\n",
        "GAUSSIAN_STANDARD_SVM=pd.Series(GAUSSIAN_STANDARD_SVM,index=['Accuracy','Precision','Recall'],name='GAUSSIAN_STANDARD_SVM')\n",
        "LINEAR_FUZZY_ENTROPY_SVM=pd.Series(LINEAR_FUZZY_ENTROPY_SVM,index=['Accuracy','Precision','Recall'],name='LINEAR_FUZZY_ENTROPY_SVM')\n",
        "GAUSSIAN_FUZZY_ENTROPY_SVM=pd.Series(GAUSSIAN_FUZZY_ENTROPY_SVM,index=['Accuracy','Precision','Recall'],name='GAUSSIAN_FUZZY_ENTROPY_SVM')\n",
        "table = pd.concat([LINEAR_STANDARD_SVM,GAUSSIAN_STANDARD_SVM,LINEAR_FUZZY_ENTROPY_SVM,GAUSSIAN_FUZZY_ENTROPY_SVM],1)"
      ],
      "metadata": {
        "colab": {
          "base_uri": "https://localhost:8080/"
        },
        "id": "UimXeMJewTql",
        "outputId": "58acddb7-aaa8-460d-ff42-7881df43ac9d"
      },
      "execution_count": null,
      "outputs": [
        {
          "output_type": "stream",
          "name": "stderr",
          "text": [
            "<ipython-input-20-decac2690782>:5: FutureWarning: In a future version of pandas all arguments of concat except for the argument 'objs' will be keyword-only.\n",
            "  table = pd.concat([LINEAR_STANDARD_SVM,GAUSSIAN_STANDARD_SVM,LINEAR_FUZZY_ENTROPY_SVM,GAUSSIAN_FUZZY_ENTROPY_SVM],1)\n"
          ]
        }
      ]
    },
    {
      "cell_type": "code",
      "source": [
        "table"
      ],
      "metadata": {
        "colab": {
          "base_uri": "https://localhost:8080/"
        },
        "id": "7IsIR_wDwVBY",
        "outputId": "9399fb32-0bcd-4895-a9d8-2dbdb578cc7d"
      },
      "execution_count": null,
      "outputs": [
        {
          "output_type": "execute_result",
          "data": {
            "text/plain": [
              "           LINEAR_STANDARD_SVM  GAUSSIAN_STANDARD_SVM  \\\n",
              "Accuracy              0.996000               0.957000   \n",
              "Precision             1.000000               1.000000   \n",
              "Recall                0.913043               0.065217   \n",
              "\n",
              "           LINEAR_FUZZY_ENTROPY_SVM  GAUSSIAN_FUZZY_ENTROPY_SVM  \n",
              "Accuracy                   0.996000                    0.957000  \n",
              "Precision                  1.000000                    1.000000  \n",
              "Recall                     0.913043                    0.065217  "
            ],
            "text/html": [
              "\n",
              "  <div id=\"df-50a46aab-faaf-4838-8524-191cc62f3482\">\n",
              "    <div class=\"colab-df-container\">\n",
              "      <div>\n",
              "<style scoped>\n",
              "    .dataframe tbody tr th:only-of-type {\n",
              "        vertical-align: middle;\n",
              "    }\n",
              "\n",
              "    .dataframe tbody tr th {\n",
              "        vertical-align: top;\n",
              "    }\n",
              "\n",
              "    .dataframe thead th {\n",
              "        text-align: right;\n",
              "    }\n",
              "</style>\n",
              "<table border=\"1\" class=\"dataframe\">\n",
              "  <thead>\n",
              "    <tr style=\"text-align: right;\">\n",
              "      <th></th>\n",
              "      <th>LINEAR_STANDARD_SVM</th>\n",
              "      <th>GAUSSIAN_STANDARD_SVM</th>\n",
              "      <th>LINEAR_FUZZY_ENTROPY_SVM</th>\n",
              "      <th>GAUSSIAN_FUZZY_ENTROPY_SVM</th>\n",
              "    </tr>\n",
              "  </thead>\n",
              "  <tbody>\n",
              "    <tr>\n",
              "      <th>Accuracy</th>\n",
              "      <td>0.996000</td>\n",
              "      <td>0.957000</td>\n",
              "      <td>0.996000</td>\n",
              "      <td>0.957000</td>\n",
              "    </tr>\n",
              "    <tr>\n",
              "      <th>Precision</th>\n",
              "      <td>1.000000</td>\n",
              "      <td>1.000000</td>\n",
              "      <td>1.000000</td>\n",
              "      <td>1.000000</td>\n",
              "    </tr>\n",
              "    <tr>\n",
              "      <th>Recall</th>\n",
              "      <td>0.913043</td>\n",
              "      <td>0.065217</td>\n",
              "      <td>0.913043</td>\n",
              "      <td>0.065217</td>\n",
              "    </tr>\n",
              "  </tbody>\n",
              "</table>\n",
              "</div>\n",
              "      <button class=\"colab-df-convert\" onclick=\"convertToInteractive('df-50a46aab-faaf-4838-8524-191cc62f3482')\"\n",
              "              title=\"Convert this dataframe to an interactive table.\"\n",
              "              style=\"display:none;\">\n",
              "        \n",
              "  <svg xmlns=\"http://www.w3.org/2000/svg\" height=\"24px\"viewBox=\"0 0 24 24\"\n",
              "       width=\"24px\">\n",
              "    <path d=\"M0 0h24v24H0V0z\" fill=\"none\"/>\n",
              "    <path d=\"M18.56 5.44l.94 2.06.94-2.06 2.06-.94-2.06-.94-.94-2.06-.94 2.06-2.06.94zm-11 1L8.5 8.5l.94-2.06 2.06-.94-2.06-.94L8.5 2.5l-.94 2.06-2.06.94zm10 10l.94 2.06.94-2.06 2.06-.94-2.06-.94-.94-2.06-.94 2.06-2.06.94z\"/><path d=\"M17.41 7.96l-1.37-1.37c-.4-.4-.92-.59-1.43-.59-.52 0-1.04.2-1.43.59L10.3 9.45l-7.72 7.72c-.78.78-.78 2.05 0 2.83L4 21.41c.39.39.9.59 1.41.59.51 0 1.02-.2 1.41-.59l7.78-7.78 2.81-2.81c.8-.78.8-2.07 0-2.86zM5.41 20L4 18.59l7.72-7.72 1.47 1.35L5.41 20z\"/>\n",
              "  </svg>\n",
              "      </button>\n",
              "      \n",
              "  <style>\n",
              "    .colab-df-container {\n",
              "      display:flex;\n",
              "      flex-wrap:wrap;\n",
              "      gap: 12px;\n",
              "    }\n",
              "\n",
              "    .colab-df-convert {\n",
              "      background-color: #E8F0FE;\n",
              "      border: none;\n",
              "      border-radius: 50%;\n",
              "      cursor: pointer;\n",
              "      display: none;\n",
              "      fill: #1967D2;\n",
              "      height: 32px;\n",
              "      padding: 0 0 0 0;\n",
              "      width: 32px;\n",
              "    }\n",
              "\n",
              "    .colab-df-convert:hover {\n",
              "      background-color: #E2EBFA;\n",
              "      box-shadow: 0px 1px 2px rgba(60, 64, 67, 0.3), 0px 1px 3px 1px rgba(60, 64, 67, 0.15);\n",
              "      fill: #174EA6;\n",
              "    }\n",
              "\n",
              "    [theme=dark] .colab-df-convert {\n",
              "      background-color: #3B4455;\n",
              "      fill: #D2E3FC;\n",
              "    }\n",
              "\n",
              "    [theme=dark] .colab-df-convert:hover {\n",
              "      background-color: #434B5C;\n",
              "      box-shadow: 0px 1px 3px 1px rgba(0, 0, 0, 0.15);\n",
              "      filter: drop-shadow(0px 1px 2px rgba(0, 0, 0, 0.3));\n",
              "      fill: #FFFFFF;\n",
              "    }\n",
              "  </style>\n",
              "\n",
              "      <script>\n",
              "        const buttonEl =\n",
              "          document.querySelector('#df-50a46aab-faaf-4838-8524-191cc62f3482 button.colab-df-convert');\n",
              "        buttonEl.style.display =\n",
              "          google.colab.kernel.accessAllowed ? 'block' : 'none';\n",
              "\n",
              "        async function convertToInteractive(key) {\n",
              "          const element = document.querySelector('#df-50a46aab-faaf-4838-8524-191cc62f3482');\n",
              "          const dataTable =\n",
              "            await google.colab.kernel.invokeFunction('convertToInteractive',\n",
              "                                                     [key], {});\n",
              "          if (!dataTable) return;\n",
              "\n",
              "          const docLinkHtml = 'Like what you see? Visit the ' +\n",
              "            '<a target=\"_blank\" href=https://colab.research.google.com/notebooks/data_table.ipynb>data table notebook</a>'\n",
              "            + ' to learn more about interactive tables.';\n",
              "          element.innerHTML = '';\n",
              "          dataTable['output_type'] = 'display_data';\n",
              "          await google.colab.output.renderOutput(dataTable, element);\n",
              "          const docLink = document.createElement('div');\n",
              "          docLink.innerHTML = docLinkHtml;\n",
              "          element.appendChild(docLink);\n",
              "        }\n",
              "      </script>\n",
              "    </div>\n",
              "  </div>\n",
              "  "
            ]
          },
          "metadata": {},
          "execution_count": 21
        }
      ]
    },
    {
      "cell_type": "markdown",
      "metadata": {
        "id": "S_Ug60PtOcEj"
      },
      "source": [
        "-------------------------------------\n",
        "**Question: Linear와 Gaussian (RBF) 두 Kernel에 대한 SVM과 EFSVM 결과를 Accuracy / Precision / Recall에 대해 비교하세요**\n",
        "\n",
        "\n",
        "-------------------------------------\n",
        "\n",
        "Answer: Linear, Gaussian 두 Kernel에 대한 SVM, EFSVM 결과가 정확성, 정밀도, 재현율 측면에서 모두 서로 동일함을 알 수 있다. 그리고 SVM 과 EFSVM 서로 간의 정확한 성능 차이 확인을 위해서 더 크고 다양한 dataset이 요구된다.\n",
        "&nbsp;"
      ]
    },
    {
      "cell_type": "code",
      "metadata": {
        "id": "i93UzRDxOtg3"
      },
      "source": [],
      "execution_count": null,
      "outputs": []
    }
  ]
}