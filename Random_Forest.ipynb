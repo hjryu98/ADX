{
  "nbformat": 4,
  "nbformat_minor": 0,
  "metadata": {
    "colab": {
      "provenance": []
    },
    "kernelspec": {
      "name": "python3",
      "display_name": "Python 3"
    }
  },
  "cells": [
    {
      "cell_type": "markdown",
      "metadata": {
        "id": "hcoPXNFUgwIn"
      },
      "source": [
        "###$\\color{blue}{\\text{3.0. Environmental Set-up & Data Loading}}$"
      ]
    },
    {
      "cell_type": "code",
      "metadata": {
        "id": "d77gYCjpgwIi",
        "colab": {
          "base_uri": "https://localhost:8080/"
        },
        "outputId": "e55eb28a-17c6-4f80-f597-fca242a94e4f"
      },
      "source": [
        "from google.colab import drive\n",
        "\n",
        "drive.mount('/content/drive', force_remount=True)\n",
        "\n",
        "# enter the foldername in your Google Drive where you have saved the unzipped\n",
        "FOLDERNAME =  'ADX/'\n",
        "\n",
        "assert FOLDERNAME is not None, 'ERROR'\n",
        "\n",
        "%cd drive/My\\ Drive\n",
        "%cp -r $FOLDERNAME ../../"
      ],
      "execution_count": null,
      "outputs": [
        {
          "output_type": "stream",
          "name": "stdout",
          "text": [
            "Mounted at /content/drive\n",
            "/content/drive/My Drive\n"
          ]
        }
      ]
    },
    {
      "cell_type": "code",
      "metadata": {
        "id": "U9q2ubx0gwIo",
        "colab": {
          "base_uri": "https://localhost:8080/"
        },
        "outputId": "6911df8a-f67a-4ca9-b4ee-9a734b32de08"
      },
      "source": [
        "import pandas as pd\n",
        "import numpy as np\n",
        "\n",
        "# Part 1.1에서 전처리하여 저장한 데이터 Import\n",
        "df = pd.read_pickle('./ADX/Data_RealEstate/dataset_preprocessing_team1real_v2.pickle')\n",
        "y_price = df.loc[:, '거래금액(만원)_adj']\n",
        "df_ = df.drop('거래금액(만원)_adj', 1)\n",
        "\n",
        "# 추후에 Implementation for Real-World Practice에 사용할 Test Data\n",
        "\n",
        "#우리가 testset을 가지고 있기 않기 때문에 에러발생 -> 주석처리\n",
        "#df_test = pd.read_csv('./ADX/Data_RealEstate/testset.csv', encoding ='cp949')"
      ],
      "execution_count": null,
      "outputs": [
        {
          "output_type": "stream",
          "name": "stderr",
          "text": [
            "<ipython-input-2-f1308930ba9d>:7: FutureWarning: In a future version of pandas all arguments of DataFrame.drop except for the argument 'labels' will be keyword-only.\n",
            "  df_ = df.drop('거래금액(만원)_adj', 1)\n"
          ]
        }
      ]
    },
    {
      "cell_type": "code",
      "metadata": {
        "id": "LIhcy46zDdlW",
        "colab": {
          "base_uri": "https://localhost:8080/"
        },
        "outputId": "442a6f80-838d-412f-8175-ee5e228920ca"
      },
      "source": [
        "# 한글 나눔포트 사용\n",
        "!sudo apt-get install -y fonts-nanum\n",
        "!sudo fc-cache -fv\n",
        "!rm ~/.cache/matplotlib -rf\n",
        "from matplotlib import font_manager, rc\n",
        "import matplotlib.pyplot as plt\n",
        "import seaborn as sns\n",
        "plt.rc('font', family='NanumBarunGothic')"
      ],
      "execution_count": null,
      "outputs": [
        {
          "output_type": "stream",
          "name": "stdout",
          "text": [
            "Reading package lists... Done\n",
            "Building dependency tree       \n",
            "Reading state information... Done\n",
            "fonts-nanum is already the newest version (20180306-3).\n",
            "0 upgraded, 0 newly installed, 0 to remove and 23 not upgraded.\n",
            "/usr/share/fonts: caching, new cache contents: 0 fonts, 1 dirs\n",
            "/usr/share/fonts/truetype: caching, new cache contents: 0 fonts, 3 dirs\n",
            "/usr/share/fonts/truetype/humor-sans: caching, new cache contents: 1 fonts, 0 dirs\n",
            "/usr/share/fonts/truetype/liberation: caching, new cache contents: 16 fonts, 0 dirs\n",
            "/usr/share/fonts/truetype/nanum: caching, new cache contents: 10 fonts, 0 dirs\n",
            "/usr/local/share/fonts: caching, new cache contents: 0 fonts, 0 dirs\n",
            "/root/.local/share/fonts: skipping, no such directory\n",
            "/root/.fonts: skipping, no such directory\n",
            "/usr/share/fonts/truetype: skipping, looped directory detected\n",
            "/usr/share/fonts/truetype/humor-sans: skipping, looped directory detected\n",
            "/usr/share/fonts/truetype/liberation: skipping, looped directory detected\n",
            "/usr/share/fonts/truetype/nanum: skipping, looped directory detected\n",
            "/var/cache/fontconfig: cleaning cache directory\n",
            "/root/.cache/fontconfig: not cleaning non-existent cache directory\n",
            "/root/.fontconfig: not cleaning non-existent cache directory\n",
            "fc-cache: succeeded\n"
          ]
        }
      ]
    },
    {
      "cell_type": "markdown",
      "metadata": {
        "id": "iGmrPvr5gwIr"
      },
      "source": [
        "###$\\color{blue}{\\text{3.1. Data split & Normalization}}$\n",
        "\n",
        "모델을 튜닝하기 위한 validation set 설정"
      ]
    },
    {
      "cell_type": "code",
      "metadata": {
        "id": "pp646yASgwIr",
        "colab": {
          "base_uri": "https://localhost:8080/"
        },
        "outputId": "ce1d9295-6f09-4d4b-bf1d-8e51c1a1849f"
      },
      "source": [
        "def splitData(df, ratio, y_column):\n",
        "    \n",
        "    columns_ = df.columns\n",
        "    # Subsample the data\n",
        "    mask = list(range(0,df.shape[0], ratio))\n",
        "    X_val = df.iloc[mask, :].drop(y_column, 1)\n",
        "    y_val = df.iloc[mask][y_column]\n",
        "    \n",
        "    mask = ~df.index.isin(mask)\n",
        "    X_train = df.loc[mask, :].drop(y_column, 1)\n",
        "    y_train = df.loc[mask, y_column]\n",
        "    \n",
        "    return X_train, y_train, X_val, y_val\n",
        "\n",
        "# train set, validation set split \n",
        "# train set, validation set = 4 : 1\n",
        "\n",
        "X_train, y_train, X_val, y_val = splitData(df_, 5, y_column = '평당가격') \n",
        "\n",
        "\n",
        "#################################################################################\n",
        "# TODO: 연속형 변수에 대해서 Z normalize를 설계 및 적용                         #\n",
        "# 대표적으로 Z normalize와 min max normalize가 존재 \n",
        "# 이번에는 Z-normalize를 사용!!\n",
        "#\n",
        "# 1. training dataset에 normalize하는 함수 생성(validation/ test에 사용할 cache \n",
        "# 저장)\n",
        "# 2. validation set과 test set을 normalize하는 함수 생성 및 적용\n",
        "#################################################################################\n",
        "\n",
        "##1. \n",
        "def z_normalize(data, column):\n",
        "    temp_df = data[column]\n",
        "    normalized_df = (temp_df - temp_df.mean()) / temp_df.std()\n",
        "    cache = {}\n",
        "    cache['mean'] = temp_df.mean()\n",
        "    cache['std'] = temp_df.std()\n",
        "    return normalized_df, cache\n",
        "\n",
        "    \n",
        "##2. \n",
        "def z_normalize_val(data, column, cache):\n",
        "    temp_df = data[column]\n",
        "    normalized_df = (temp_df - cache['mean']) / cache['std']\n",
        "    return normalized_df"
      ],
      "execution_count": null,
      "outputs": [
        {
          "output_type": "stream",
          "name": "stderr",
          "text": [
            "<ipython-input-4-9c5607a99a78>:6: FutureWarning: In a future version of pandas all arguments of DataFrame.drop except for the argument 'labels' will be keyword-only.\n",
            "  X_val = df.iloc[mask, :].drop(y_column, 1)\n",
            "<ipython-input-4-9c5607a99a78>:10: FutureWarning: In a future version of pandas all arguments of DataFrame.drop except for the argument 'labels' will be keyword-only.\n",
            "  X_train = df.loc[mask, :].drop(y_column, 1)\n"
          ]
        }
      ]
    },
    {
      "cell_type": "code",
      "metadata": {
        "id": "ZZdqDa00alAm"
      },
      "source": [
        "# 위 block에서 만들어진 z_normalize와 z_normalize_val 적용 (Error 날 경우 다시 고민할 것)\n",
        "X_train_norm = X_train.copy()\n",
        "X_train_norm.loc[:, ['전용/연면적(㎡)','층','건물년식']], cache = z_normalize(X_train, ['전용/연면적(㎡)','층','건물년식'])\n",
        "X_val_norm = X_val.copy()\n",
        "X_val_norm.loc[:, ['전용/연면적(㎡)','층','건물년식']] = z_normalize_val(X_val, ['전용/연면적(㎡)','층','건물년식'], cache)"
      ],
      "execution_count": null,
      "outputs": []
    },
    {
      "cell_type": "markdown",
      "metadata": {
        "id": "3TcNs7nRgwIu"
      },
      "source": [
        "###$\\color{blue}{\\text{3.2. Random Forest}}$\n",
        "\n",
        "랜덤포레스트 (https://scikit-learn.org/stable/modules/generated/sklearn.ensemble.RandomForestRegressor.html)\n",
        "\n",
        "**Hyperparameter Optimization (Tuning)**. 랜덤포레스트에서 hyperparameter들은 n_estimators, criterion, max_depth, min_samples_split, min_samples_leaf 등등이 존재한다. 이러한 하이퍼파라미터는 모델 성능에 큰 영향을 미치므로 training data와 validation data를 활용하여서 좋은 성능의 모델을 출력\n",
        "\n",
        "**Approximate results**. ㎡당 가격의 MAE와 ㎡당 가격을 추정 상가 가격으로 변환하여 MAE를 계산 (MAE의 minimum을 찾는 행위가 Hyperparameter optimization을 의미하며 최대로 개선된 모형을 사용하는 것이 바람직함)"
      ]
    },
    {
      "cell_type": "code",
      "metadata": {
        "id": "fBKBtxzFgwIu",
        "colab": {
          "base_uri": "https://localhost:8080/"
        },
        "outputId": "8432dcf9-103e-4df2-c70f-1527cd542a4e"
      },
      "source": [
        "from sklearn.ensemble import RandomForestRegressor\n",
        "from sklearn.metrics import mean_absolute_error, mean_squared_error\n",
        "\n",
        "best_rf = None # store the best model into this \n",
        "best_mse = 1e10\n",
        "best_hyperparameter = None\n",
        "results = {}\n",
        "n_estimators = [50, 100, 150]\n",
        "max_depths = [100, 200, 300]\n",
        "ects = None\n",
        "\n",
        "\n",
        "#################################################################################\n",
        "# TODO: validation dataset을 활용하여 하이퍼 파라미터를 조정하고 가장 좋은 모델 # \n",
        "# 을 저장하여 test dataset에 사용                                               #\n",
        "#                                                                               \n",
        "# 1. n_estimators, max_depth을 조절하여 가장 좋은 모델을 'best_rf'에 저장, 가장 \n",
        "# 좋은 모델의 하이퍼 파라미터를 'best_hyperparamter'에 저장. 모델의 성능 비교는\n",
        "# validation set의 MSE를 참조하고 가장 좋은 모델의 MSE를 'best_MSE'에 저장.\n",
        "#\n",
        "# 2. 현재 가장 좋은 모델의 하이퍼파라미터를 고정하고 Random Forest 모델의 다른 \n",
        "# hyperparameter를 조절하여 성능 차이 비교 (위의 scikit-learn 문서 참조)\n",
        "#################################################################################\n",
        "\n",
        "#1\n",
        "#n_estimator, max_depth를 바꿔가면서 하이퍼파라미터 튜닝\n",
        "for est_num in n_estimators:\n",
        "    for depth in max_depths:\n",
        "        cur_RF = RandomForestRegressor(n_estimators=est_num, max_depth=depth, oob_score=True)\n",
        "        cur_RF.fit(X_train_norm, y_train)\n",
        "        cur_pred = cur_RF.predict(X_val_norm)\n",
        "        cur_mse = mean_squared_error(y_val, cur_pred)\n",
        "        \n",
        "        #MSE값이 이전 모델보다 작아질 경우에만 모델 갱신\n",
        "        if cur_mse <= best_mse:\n",
        "            best_rf = cur_RF\n",
        "            best_mse = cur_mse\n",
        "            best_hyperparameter = {'n_estimators':est_num, 'max_depths':depth}\n",
        "            print(\"Updated!  current model: \", best_rf,\"\\ncurrent MSE: \", cur_mse)\n",
        "\n",
        "#최종 하이퍼파라미터 출력       \n",
        "print(\"Best n_estimator :\", best_hyperparameter['n_estimators'], \"best max_depth :\", best_hyperparameter['max_depths'])\n",
        "\n",
        "best_n_estimator = best_hyperparameter['n_estimators']\n",
        "best_max_depth = best_hyperparameter['max_depths']\n",
        "\n",
        "#2\n",
        "############################################################\n",
        "#1에서 구한 최종 n_estimator, max_depth를 고정 후\n",
        "#max_features와 min_samples_leaf수를 바꿔가면서 모델 다시 최적화\n",
        "#max_features : node 분할 시 무작위로 선택되는 변수의 수\n",
        "#min_samples_leaf : 루트 노드에 남길 수 있는 최종 샘플의 개수\n",
        "############################################################\n",
        "\n",
        "import math\n",
        "mid = round(math.sqrt(X_train_norm.shape[1])/3)\n",
        "#강의자료를 기준으로 sqrt(변수의 개수)/3 으로 기준치 설정\n",
        "\n",
        "max_features = [mid, mid+1, mid+2, mid+3, mid+4]\n",
        "min_samples = [1,3,5,7]\n",
        "\n",
        "#max_features와 min_samples 를 바꿔가면서 하이퍼파라미터 튜닝\n",
        "for feat_num in max_features:\n",
        "    for min_num in min_samples:\n",
        "        cur_RF = RandomForestRegressor(n_estimators=best_n_estimator, max_depth=best_max_depth,\n",
        "                                       min_samples_leaf=min_num, max_features=feat_num, oob_score=True)\n",
        "        cur_RF.fit(X_train_norm, y_train)\n",
        "        cur_pred = cur_RF.predict(X_val_norm)\n",
        "        cur_mse = mean_squared_error(y_val, cur_pred)\n",
        "\n",
        "        #기존의 MSE보다 더 좋은 값이 나왔을 때 모델 갱신\n",
        "        if cur_mse <= best_mse:\n",
        "            best_rf = cur_RF\n",
        "            best_mse = cur_mse\n",
        "            best_hyperparameter['max_features'] = feat_num\n",
        "            best_hyperparameter['min_sample_leaf'] = min_num\n",
        "\n",
        "            print(\"Updated!  current model is \", best_rf, \"with MSE: \", cur_mse)\n",
        "        \n",
        "print(\"Finished! Best model is \", best_rf)"
      ],
      "execution_count": null,
      "outputs": [
        {
          "output_type": "stream",
          "name": "stdout",
          "text": [
            "Updated!  current model:  RandomForestRegressor(max_depth=100, n_estimators=50, oob_score=True) \n",
            "current MSE:  119453.40802746257\n",
            "Updated!  current model:  RandomForestRegressor(max_depth=100, oob_score=True) \n",
            "current MSE:  117120.9781278456\n",
            "Updated!  current model:  RandomForestRegressor(max_depth=200, oob_score=True) \n",
            "current MSE:  116838.33370268028\n",
            "Updated!  current model:  RandomForestRegressor(max_depth=100, n_estimators=150, oob_score=True) \n",
            "current MSE:  116197.80034667903\n",
            "Updated!  current model:  RandomForestRegressor(max_depth=200, n_estimators=150, oob_score=True) \n",
            "current MSE:  116177.35549428589\n",
            "Updated!  current model:  RandomForestRegressor(max_depth=300, n_estimators=150, oob_score=True) \n",
            "current MSE:  115944.50639109006\n",
            "Best n_estimator : 150 best max_depth : 300\n",
            "Updated!  current model is  RandomForestRegressor(max_depth=300, max_features=3, n_estimators=150,\n",
            "                      oob_score=True) with MSE:  114999.46349000276\n",
            "Updated!  current model is  RandomForestRegressor(max_depth=300, max_features=4, n_estimators=150,\n",
            "                      oob_score=True) with MSE:  114415.7724569384\n",
            "Updated!  current model is  RandomForestRegressor(max_depth=300, max_features=5, n_estimators=150,\n",
            "                      oob_score=True) with MSE:  114051.1821928433\n",
            "Finished! Best model is  RandomForestRegressor(max_depth=300, max_features=5, n_estimators=150,\n",
            "                      oob_score=True)\n"
          ]
        }
      ]
    },
    {
      "cell_type": "code",
      "metadata": {
        "id": "8efYET5EgwIx",
        "colab": {
          "base_uri": "https://localhost:8080/"
        },
        "outputId": "a6481842-cc7b-4ec9-a2d2-50c182535fae"
      },
      "source": [
        "# Print your validation 거래금액 mae: this should be below 400,000\n",
        "# 위 코드 결과물을 기반으로 계산 (에러가 난다면 본 코드를 수정하거나 위 코드를 수정하여야 함)\n",
        "\n",
        "print('Validation MSE(㎡당 가격): ', np.mean(np.square(best_rf.predict(X_val_norm) - y_val)))\n",
        "print('Validation MAE(㎡당 가격):', np.mean(np.abs(best_rf.predict(X_val_norm) - y_val)))\n",
        "\n",
        "_price = X_val.loc[:, '전용/연면적(㎡)'] * best_rf.predict(X_val_norm)\n",
        "\n",
        "print('Validation MSE(거래 금액): ', np.mean(np.square(_price - y_val)))\n",
        "print('Validation MAE(거래 금액): ', np.mean(np.abs(_price - y_val)))\n",
        "print('Best parameters : ', best_hyperparameter)"
      ],
      "execution_count": null,
      "outputs": [
        {
          "output_type": "stream",
          "name": "stdout",
          "text": [
            "Validation MSE(㎡당 가격):  114051.1821928433\n",
            "Validation MAE(㎡당 가격): 157.6685822213536\n",
            "Validation MSE(거래 금액):  1459575460544.5322\n",
            "Validation MAE(거래 금액):  175938.0975730838\n",
            "Best parameters :  {'n_estimators': 150, 'max_depths': 300, 'max_features': 5, 'min_sample_leaf': 1}\n"
          ]
        }
      ]
    },
    {
      "cell_type": "markdown",
      "metadata": {
        "id": "xnAg2uSHD02_"
      },
      "source": [
        "하기의 function을 사용하여 최적 모형의 Feature를 분석한다."
      ]
    },
    {
      "cell_type": "code",
      "metadata": {
        "id": "g97yVRk1D0gO",
        "colab": {
          "base_uri": "https://localhost:8080/",
          "height": 620
        },
        "outputId": "fe153a95-bb9b-4b61-80c8-3b2497a32d5e"
      },
      "source": [
        "def plot_feature_importance(importance_, features_,model_type):\n",
        "      dict_ = {'feature importance' : importance_, 'features' : features_}\n",
        "      df = pd.DataFrame(dict_)\n",
        "      df.sort_values(by=['feature importance'], ascending=False,inplace=True)\n",
        "      plt.figure(figsize=(10,10))\n",
        "      sns.barplot(x=df['feature importance'], y=df['features'])\n",
        "      plt.title(model_type + 'FEATURE IMPORTANCE')\n",
        "      plt.xlabel('FEATURE IMPORTANCE')\n",
        "      plt.ylabel('FEATURE NAMES')\n",
        "\n",
        "      \n",
        "plot_feature_importance(best_rf.feature_importances_, X_val.columns, 'RANDOM FOREST ')"
      ],
      "execution_count": null,
      "outputs": [
        {
          "output_type": "display_data",
          "data": {
            "text/plain": [
              "<Figure size 720x720 with 1 Axes>"
            ],
            "image/png": "[encoded data removed]"
          },
          "metadata": {
            "needs_background": "light"
          }
        }
      ]
    },
    {
      "cell_type": "markdown",
      "metadata": {
        "id": "Kw7uZ4GsD7xj"
      },
      "source": [
        "$\\color{lightgreen}{\\text{Question}}$ : 랜덤 포레스트의 Feature importance에 대해서 설명하고 위의 결과에 대해서 분석하여 Markdown에 기술하세요.\n",
        " \n",
        "$\\color{lightgreen}{\\text{Answer}}$ : Feature importance는 불순도를 낮추는 정도를 나타내는 지표이다. scikit learn에서의 feature importance는 Gini 중요도를 기반으로 중요도를 측정한다. 하지만, high-cardinality 변수에 대해 overestimate하는 경향이 있다. 그래서 연속형 변수인 '전용/연면적'과 '건물년식'의 경우 importance가 높게 측정된 것으로 보인다. 나머지 변수는 feature engineering 과정에서 낮은 차원으로 변환하였기에 비교적 imporatance가 낮게 측정된 것으로 보인다.\n",
        "이런 경우에는 permutation feature importance와 같은 방법을 혼합하여 사용하면 개선된다.\n"
      ]
    },
    {
      "cell_type": "markdown",
      "metadata": {
        "id": "oKykWnVjvQsO"
      },
      "source": [
        "###$\\color{blue}{\\text{3.3. AdaBoost}}$\n",
        "\n",
        "팀원 간 토론 및 서치를 통해 sklearn 내 AdaBoost 모형을 이해하고 구현. \n",
        "Hyperparameter optimization은 반드시 필요하며 각 코드 별로 주석을 달아 구현 사유를 함께 서술!"
      ]
    },
    {
      "cell_type": "code",
      "metadata": {
        "id": "mxcIoBbnvPiQ",
        "colab": {
          "base_uri": "https://localhost:8080/"
        },
        "outputId": "d51bff0a-af50-4a5b-b71a-5d572a848f22"
      },
      "source": [
        "#################################################################################\n",
        "# TODO: Random Forest와 동일한 데이터에 대해 AdaBoost 구현!\n",
        "#################################################################################\n",
        "from sklearn.ensemble import AdaBoostRegressor\n",
        "from sklearn.tree import DecisionTreeRegressor\n",
        "from sklearn.metrics import mean_squared_error, mean_absolute_error\n",
        "from itertools import product\n",
        "\n",
        "best_ab = None # store the best model into this \n",
        "best_mse_ab = 1e10\n",
        "best_mae_ab = 1e10\n",
        "best_hyperparameter_ab = None\n",
        "results_ab = {}\n",
        "\n",
        "#max_depth, n_estimator, learning_rate 3가지 하이퍼파라미터 튜닝\n",
        "#learning_rate : boosting과정에서 부여되는 가중치\n",
        "max_deps = [10, 13, 16, 19, 22, 25] \n",
        "n_estimators_ab = [50, 100, 150]\n",
        "learning_rate = [1, 1.25, 1.5]\n",
        "\n",
        "#하이퍼파라미터 셋을 카테시안 곱으로 리스트화 하여 저장 후 iteration\n",
        "params = list(product(max_deps, n_estimators_ab, learning_rate))\n",
        "\n",
        "for par in params:\n",
        "  cur_ab = AdaBoostRegressor( DecisionTreeRegressor(max_depth = par[0]), n_estimators = par[1], learning_rate = par[2], loss = 'linear')\n",
        "  cur_ab.fit(X_train_norm, y_train)\n",
        "  cur_predicted = cur_ab.predict(X_val_norm)\n",
        "  cur_mse = mean_squared_error(y_val, cur_predicted)\n",
        "  cur_mae = mean_absolute_error(y_val, cur_predicted)\n",
        "\n",
        "  #이전과 동일한 방식으로 MSE기준으로 모델 갱신\n",
        "  if cur_mse <= best_mse_ab:\n",
        "    best_ab = cur_ab\n",
        "    best_mse_ab = cur_mse\n",
        "    best_mae_ab = cur_mae\n",
        "    best_hyperparameter_ab = {'max_depth': par[0], 'n_estimators': par[1], 'learning_rate': par[2]}\n",
        "    print(\"Updated! \\ncurrent model: \", best_ab,\n",
        "          \"\\ncurrent MSE: \", cur_mse,\n",
        "          \"\\ncurrent MAE: \", cur_mae)"
      ],
      "execution_count": null,
      "outputs": [
        {
          "output_type": "stream",
          "name": "stdout",
          "text": [
            "Updated! \n",
            "current model:  AdaBoostRegressor(estimator=DecisionTreeRegressor(max_depth=10),\n",
            "                  learning_rate=1) \n",
            "current MSE:  666814.9220947715 \n",
            "current MAE:  602.6312389408494\n",
            "Updated! \n",
            "current model:  AdaBoostRegressor(estimator=DecisionTreeRegressor(max_depth=13),\n",
            "                  learning_rate=1) \n",
            "current MSE:  255021.0838046785 \n",
            "current MAE:  336.0251705256989\n",
            "Updated! \n",
            "current model:  AdaBoostRegressor(estimator=DecisionTreeRegressor(max_depth=13),\n",
            "                  learning_rate=1.25) \n",
            "current MSE:  247985.9018144872 \n",
            "current MAE:  334.12800339547573\n",
            "Updated! \n",
            "current model:  AdaBoostRegressor(estimator=DecisionTreeRegressor(max_depth=16),\n",
            "                  learning_rate=1) \n",
            "current MSE:  162891.71165565305 \n",
            "current MAE:  232.2927459209894\n",
            "Updated! \n",
            "current model:  AdaBoostRegressor(estimator=DecisionTreeRegressor(max_depth=19),\n",
            "                  learning_rate=1) \n",
            "current MSE:  117765.56827840696 \n",
            "current MAE:  156.9779756542545\n",
            "Updated! \n",
            "current model:  AdaBoostRegressor(estimator=DecisionTreeRegressor(max_depth=22),\n",
            "                  learning_rate=1) \n",
            "current MSE:  98400.72494264091 \n",
            "current MAE:  122.04314352165099\n",
            "Updated! \n",
            "current model:  AdaBoostRegressor(estimator=DecisionTreeRegressor(max_depth=25),\n",
            "                  learning_rate=1) \n",
            "current MSE:  84712.71119227193 \n",
            "current MAE:  101.57135056746948\n"
          ]
        }
      ]
    },
    {
      "cell_type": "code",
      "source": [
        "##Adaboost validation added for training set\n",
        "print('Validation MSE(㎡당 가격): ', np.mean(np.square(best_ab.predict(X_val_norm) - y_val)))\n",
        "print('Validation MAE(㎡당 가격):', np.mean(np.abs(best_ab.predict(X_val_norm) - y_val)))\n",
        "\n",
        "_price = X_val.loc[:, '전용/연면적(㎡)'] * best_ab.predict(X_val_norm)\n",
        "\n",
        "print('Validation MSE(거래 금액): ', np.mean(np.square(_price - y_val)))\n",
        "print('Validation MAE(거래 금액): ', np.mean(np.abs(_price - y_val)))\n",
        "print('Best parameters : ', best_hyperparameter_ab)"
      ],
      "metadata": {
        "colab": {
          "base_uri": "https://localhost:8080/"
        },
        "id": "42PN64-_z4kl",
        "outputId": "1a23b136-5018-495b-8eb0-67e045aa6833"
      },
      "execution_count": null,
      "outputs": [
        {
          "output_type": "stream",
          "name": "stdout",
          "text": [
            "Validation MSE(㎡당 가격):  84712.71119227193\n",
            "Validation MAE(㎡당 가격): 101.57135056746948\n",
            "Validation MSE(거래 금액):  1478880670392.9236\n",
            "Validation MAE(거래 금액):  176776.93359691257\n",
            "Best parameters :  {'max_depth': 25, 'n_estimators': 50, 'learning_rate': 1}\n"
          ]
        }
      ]
    },
    {
      "cell_type": "markdown",
      "metadata": {
        "id": "6Nvcmw2SgwI0"
      },
      "source": [
        "###$\\color{blue}{\\text{3.4. Implementation for Real-World Practice}}$\n",
        "\n",
        "새로운 데이터가 들어왔을 때, 지금까지 구현 된 과정을 자동으로 거쳐 새로운 input으로서 모델에 입력하고 산출물을 받을 수 있도록 구현 (test-set 개념으로 진행) ** Random Forest와 AdaBoost 두 모형 모두 활용"
      ]
    },
    {
      "cell_type": "code",
      "metadata": {
        "id": "5s38WwgcgwI0"
      },
      "source": [
        "testy = df_test.loc[:, '거래금액(만원)']\n",
        "y_real = []\n",
        "for i in np.array(df_test.loc[:, '거래금액(만원)']) :\n",
        "    y_real.append(float(i.replace(',', '')))\n",
        "df_test = df_test.drop('거래금액(만원)', 1)\n",
        "y_price = y_real / df_test.loc[:, '전용/연면적(㎡)']"
      ],
      "execution_count": null,
      "outputs": []
    },
    {
      "cell_type": "code",
      "metadata": {
        "id": "5PIbm1j-gwI3"
      },
      "source": [
        "import datetime\n",
        "import math\n",
        "\n",
        "# 하기의 새로운 df를 Part 1.1 내 df로 간주하고 진행할 것.\n",
        "df = df_test.copy()\n",
        "\n",
        "#################################################################################\n",
        "# TODO: Test set 동일한 처리과정 만들기                                         #\n",
        "#                                                                               \n",
        "# Part 1.1에서 만든 방법론을 적용 (Null은 없다고 가정 - 이미 처리했음)\n",
        "# 1. 데이터 타입처리 (계약년월, 건축년도)\n",
        "# 2. 지역구 단위의 행정구역 새로운 변수 생성 (변수명 '지역구')\n",
        "# 3. 건물 년식 일 단위로 하여 새로운 변수 생성 (변수명 '건물년식') \n",
        "# 4. 평당가격 변수 추가 \n",
        "# 5. 과제 1에서 만든 새로운 파생 변수 생성  \n",
        "#################################################################################\n",
        "#1\n",
        "contract_date = []\n",
        "for i,j in np.array(df[['계약년월', '계약일']]):\n",
        "  contract_date.append(datetime.datetime(int(str(i)[:4]), int(str(i)[4:6]), int(j)))\n",
        "\n",
        "df.loc[:, '계약날짜'] = contract_date\n",
        "\n",
        "construct_yr = []\n",
        "\n",
        "for i in np.array(df['건축년도']):\n",
        "  construct_yr.append(datetime.datetime(int(i), 1, 1))\n",
        "\n",
        "df['건축년도'] = construct_yr\n",
        "\n",
        "#2\n",
        "address_type = []\n",
        "\n",
        "for i in np.array(df['시군구']):\n",
        "  idx1 = i.find('서울특별시')\n",
        "\n",
        "  if i.find('구로구') >= 0:\n",
        "    idx2 = i.find('구로구')\n",
        "    address_type.append(i[idx1 + 5 : idx2 + 3].strip())\n",
        "  else:\n",
        "    idx2 = i.find('구')\n",
        "    address_type.append(i[idx1 + 5 : idx2 + 1].strip())\n",
        "\n",
        "df.loc[:, '지역구'] = address_type\n",
        "\n",
        "\n",
        "#3\n",
        "df.loc[:, '건물년식'] = df.apply(lambda x : (x['계약날짜'] - x['건축년도']).days, axis=1)\n",
        "\n",
        "\n",
        "#4\n",
        "df.loc[:, '평당가격'] = 0.0\n",
        "\n",
        "\n",
        "#5\n",
        "##ex.\n",
        "##지역구 열을 통해 종합주택가격지수라는 새로운 변수를 만들어 볼것임.(해당 지역 건물의 가격을 100으로 기준잡고 등락을 숫자로 보여주는 것)\n",
        "##출처 : https://data.seoul.go.kr/dataList/801/S/2/datasetView.do \n",
        "\n",
        "Price_idx = {'종로구':100.2,'중구':96.9,'용산구':101.4,'성동구':99.0,'광진구':100.0,'동대문구':97.7,\n",
        "      '중랑구':98.8,'성북구':96.5,'강북구':98.8,'도봉구':96.0,'노원구':93.8,'은평구':98.3,\n",
        "      '서대문구':97.4,'마포구':98.8,'양천구':99.1,'강서구':98.6,'구로구':99.0,'금천구':98.5,\n",
        "      '영등포구':98.1,'동작구':100.2,'관악구':98.7,'서초구':103.1,'강남구':101.2,'송파구':98.8,'강동구':99.0}\n",
        "df.loc[:, '매매가격지수'] = df['지역구'].apply(lambda x : Price_idx[x])"
      ],
      "execution_count": null,
      "outputs": []
    },
    {
      "cell_type": "code",
      "metadata": {
        "id": "RPxjvosXd938"
      },
      "source": [
        "#################################################################################\n",
        "# TODO: One hot encoding의 컬럼수 조정                                          #\n",
        "#                                                                               #\n",
        "# 1. training set과 test set의 범주형 변수의 종류가 달라질 수 있으므로 이를 train  \n",
        "#  set의 컬럼으로 통일 (index.isin() 활용)                                         \n",
        "#################################################################################\n",
        "\n",
        "#해당 test set에 대한 encoding 부터 진행 >> feature importance 분석으로 인해 encoding 방식을 바꾸어서 진행함.\n",
        "CATEGORICAL = ['용도지역', '건축물주용도', '도로조건', '지역구'] ##training set에 있던 범주형 변수들\n",
        "\n",
        "def usage_check(val):\n",
        "  if val.find('주거') >= 0 or val.find('상업') >= 0:\n",
        "    return 1\n",
        "  return 0\n",
        "\n",
        "\n",
        "for i in CATEGORICAL:\n",
        "  if i in df.columns:\n",
        "    if i == '용도지역': #용도지역 encoding\n",
        "      df.loc[:, '용도지역'] = df['용도지역'].apply(usage_check)\n",
        "\n",
        "    elif i == '건축물주용도': #건축물주용도 encoding\n",
        "      #feature engineering에서 median을 통해 구한 encoding rule\n",
        "      const_usage_dict = {'교육연구': 0, '기타': 1, '제2종근린생활': 2, '판매': 3, '업무': 4, '제1종근린생활': 5, '숙박': 6}\n",
        "\n",
        "      df.loc[:, '건축물주용도'] = df['건축물주용도'].apply(lambda x : const_usage_dict[x])\n",
        "\n",
        "    elif i == '도로조건': #도로조건 encoding\n",
        "      road_con = {'25m미만' : 0, '12m미만' : 1, '8m미만' : 2, '25m이상' : 3}\n",
        "      df.loc[:, '도로조건'] = df['도로조건'].apply(lambda x : (road_con[x]))\n",
        "\n",
        "    else: #지역구 encoding\n",
        "\n",
        "      #feature engineering에서 mean을 통한 군집화를 통해 정한 encoding rule\n",
        "      loc_number = {'강남구' : 3, '강동구' : 2, '강북구' : 0, '강서구' : 1, '관악구' : 0, '광진구' : 2, '구로구' : 0, '금천구' : 0, '노원구' : 1,\n",
        "              '도봉구' : 0, '동대문구' : 0, '동작구' : 1, '마포구' : 2, '서대문구' : 2, '서초구' : 3, '성동구' : 2, '성북구' : 0, '송파구' : 3,\n",
        "              '양천구' : 1, '영등포구' : 1, '용산구' : 3, '은평구' : 1, '종로구' : 3, '중구' : 3, '중랑구' : 0}\n",
        "\n",
        "      df.loc[:, '지역구'] = df['지역구'].apply(lambda x : (loc_number[x]))\n",
        "\n",
        "##encoding이 모두 끝나면 필요없는 열들을 모두 제외해서 training set과 맞추기\n",
        "\n",
        "need_col = ['전용/연면적(㎡)', '층', '건물년식', '평당가격', '거래금액(만원)_adj', '용도지역', '건축물주용도', '도로조건', '지역구']\n",
        "\n",
        "for i in df.columns:\n",
        "  if i not in need_col:\n",
        "    df.drop(i, axis = 1, inplace = True)\n",
        "\n",
        "#training set과 column 순서 맞추기    \n",
        "df = df[X_train.columns.to_list()]\n"
      ],
      "execution_count": null,
      "outputs": []
    },
    {
      "cell_type": "code",
      "metadata": {
        "id": "eNRWkomkgrjm"
      },
      "source": [
        "#################################################################################\n",
        "# TODO: Normalize : training set을 기준으로 진행                                #\n",
        "#                                                                               #\n",
        "# 1. training set의 cache를 활용하여 test set normalize    \n",
        "# ---- z_normalize_val(____, cache)                           \n",
        "#################################################################################\n",
        "X_test = df.copy()\n",
        "X_test_norm = X_test.copy()\n",
        "X_test_norm.loc[:, ['전용/연면적(㎡)','층','건물년식']] = z_normalize_val(X_test, ['전용/연면적(㎡)','층','건물년식'], cache)\n"
      ],
      "execution_count": null,
      "outputs": []
    },
    {
      "cell_type": "code",
      "metadata": {
        "id": "YktmxNQAgwI5"
      },
      "source": [
        "# Print your test 거래금액 Mean Absolute Error: this should be below 11,000\n",
        "\n",
        "print('Validation MSE(㎡당 가격): ', np.mean(np.square(best_rf.predict(X_test_norm) - y_price)))\n",
        "print('Validation MAE(㎡당 가격):', np.mean(np.abs(best_rf.predict(X_test_norm) - y_price)))\n",
        "\n",
        "_price = X_test.loc[:, '전용/연면적(㎡)'] * best_rf.predict(X_test_norm)\n",
        "\n",
        "print('Validation MSE(거래 금액): ', np.mean(np.square(_price - y_real)))\n",
        "print('Validation MAE(거래 금액): ', np.mean(np.abs(_price - y_real)))"
      ],
      "execution_count": null,
      "outputs": []
    },
    {
      "cell_type": "code",
      "source": [
        "##Adaboost implementation added for test set\n",
        "\n",
        "# Print your test 거래금액 Mean Absolute Error: this should be below 11,000\n",
        "\n",
        "print('Validation MSE(㎡당 가격): ', np.mean(np.square(best_ab.predict(X_test_norm) - y_price)))\n",
        "print('Validation MAE(㎡당 가격):', np.mean(np.abs(best_ab.predict(X_test_norm) - y_price)))\n",
        "\n",
        "_price = X_test.loc[:, '전용/연면적(㎡)'] * best_ab.predict(X_test_norm)\n",
        "\n",
        "print('Validation MSE(거래 금액): ', np.mean(np.square(_price - y_real)))\n",
        "print('Validation MAE(거래 금액): ', np.mean(np.abs(_price - y_real)))"
      ],
      "metadata": {
        "id": "wgbd-BjFxXri"
      },
      "execution_count": null,
      "outputs": []
    }
  ]
}